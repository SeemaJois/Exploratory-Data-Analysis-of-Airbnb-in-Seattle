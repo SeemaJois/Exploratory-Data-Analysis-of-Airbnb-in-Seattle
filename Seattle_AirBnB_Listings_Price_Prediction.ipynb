{
 "cells": [
  {
   "cell_type": "markdown",
   "metadata": {},
   "source": [
    "# Abstract\n",
    "\n",
    "Kaggle dataset: https://www.kaggle.com/shanelev/seattle-airbnb-listings\n",
    "\n",
    "\n",
    "On a holiday in Seattle for business or pleasure? Looking for best place to stay in Seattle? Curious about the AirBnB prices in Seattle?\n",
    "This might help you make an informed decision on the ideal place for you to stay at Seattle.\n",
    "\n",
    "Objective:\n",
    "\n",
    "### Predict AirBnb prices in Seattle.\n",
    "\n",
    "Applied methods are:\n",
    "* Cleaning tasks such as dropping bad data, dealing with missing values.\n",
    "* Modification of existing features e.g. standardization, log transforms etc.\n",
    "* Creation or derivation of new features, usually from existing ones.\n",
    "* Graphs such as plots, heatmap have been used.\n",
    "\n",
    "#### Let's get started.\n"
   ]
  },
  {
   "cell_type": "markdown",
   "metadata": {},
   "source": [
    "# Overview of data"
   ]
  },
  {
   "cell_type": "code",
   "execution_count": 1,
   "metadata": {},
   "outputs": [],
   "source": [
    "%matplotlib inline \n",
    "import matplotlib.pyplot as plt\n",
    "import numpy as np\n",
    "import pandas as pd\n",
    "from scipy import stats\n",
    "import seaborn as sns\n",
    "import statsmodels.api as sm\n",
    "import statsmodels.formula.api as smf\n",
    "import re\n",
    "from sklearn.preprocessing import LabelEncoder\n",
    "from sklearn.model_selection import train_test_split\n",
    "from sklearn.linear_model import LinearRegression\n",
    "from sklearn.tree import DecisionTreeRegressor\n",
    "from sklearn.ensemble import RandomForestRegressor\n",
    "from sklearn.metrics import mean_squared_error\n",
    "from sklearn.model_selection import cross_val_score\n",
    "from sklearn.metrics import mean_squared_error, make_scorer\n",
    "from sklearn.linear_model import LinearRegression, Ridge\n",
    "from sklearn import linear_model\n",
    "from sklearn.linear_model import LogisticRegression\n",
    "from sklearn.tree import DecisionTreeRegressor\n",
    "from sklearn.ensemble import RandomForestRegressor\n",
    "from sklearn.metrics import mean_squared_error\n",
    "from sklearn import preprocessing\n",
    "from sklearn.model_selection import train_test_split, cross_val_score, cross_val_predict\n",
    "\n",
    "# Make plots larger\n",
    "plt.rcParams['figure.figsize'] = (15, 9)"
   ]
  },
  {
   "cell_type": "code",
   "execution_count": 2,
   "metadata": {},
   "outputs": [],
   "source": [
    "# importing the dataset\n",
    "seattle=pd.read_csv(\"seattle_01.csv\", decimal = ',')"
   ]
  },
  {
   "cell_type": "code",
   "execution_count": 3,
   "metadata": {
    "scrolled": true
   },
   "outputs": [
    {
     "data": {
      "text/html": [
       "<div>\n",
       "<style scoped>\n",
       "    .dataframe tbody tr th:only-of-type {\n",
       "        vertical-align: middle;\n",
       "    }\n",
       "\n",
       "    .dataframe tbody tr th {\n",
       "        vertical-align: top;\n",
       "    }\n",
       "\n",
       "    .dataframe thead th {\n",
       "        text-align: right;\n",
       "    }\n",
       "</style>\n",
       "<table border=\"1\" class=\"dataframe\">\n",
       "  <thead>\n",
       "    <tr style=\"text-align: right;\">\n",
       "      <th></th>\n",
       "      <th>Unnamed: 0</th>\n",
       "      <th>room_id</th>\n",
       "      <th>host_id</th>\n",
       "      <th>room_type</th>\n",
       "      <th>address</th>\n",
       "      <th>reviews</th>\n",
       "      <th>overall_satisfaction</th>\n",
       "      <th>accommodates</th>\n",
       "      <th>bedrooms</th>\n",
       "      <th>bathrooms</th>\n",
       "      <th>price</th>\n",
       "      <th>last_modified</th>\n",
       "      <th>latitude</th>\n",
       "      <th>longitude</th>\n",
       "      <th>location</th>\n",
       "      <th>name</th>\n",
       "      <th>currency</th>\n",
       "      <th>rate_type</th>\n",
       "    </tr>\n",
       "  </thead>\n",
       "  <tbody>\n",
       "    <tr>\n",
       "      <th>0</th>\n",
       "      <td>0</td>\n",
       "      <td>2318</td>\n",
       "      <td>2536</td>\n",
       "      <td>Entire home/apt</td>\n",
       "      <td>Seattle, WA, United States</td>\n",
       "      <td>21</td>\n",
       "      <td>5</td>\n",
       "      <td>8</td>\n",
       "      <td>4</td>\n",
       "      <td>2.5</td>\n",
       "      <td>250</td>\n",
       "      <td>46:14.7</td>\n",
       "      <td>47.610819</td>\n",
       "      <td>-122.290816</td>\n",
       "      <td>0101000020E6100000D449B6BA9C925EC0416326512FCE...</td>\n",
       "      <td>Casa Madrona - Urban Oasis, 1 block from the P...</td>\n",
       "      <td>USD</td>\n",
       "      <td>nightly</td>\n",
       "    </tr>\n",
       "    <tr>\n",
       "      <th>1</th>\n",
       "      <td>1</td>\n",
       "      <td>3335</td>\n",
       "      <td>4193</td>\n",
       "      <td>Entire home/apt</td>\n",
       "      <td>Seattle, WA, United States</td>\n",
       "      <td>1</td>\n",
       "      <td>NaN</td>\n",
       "      <td>4</td>\n",
       "      <td>2</td>\n",
       "      <td>1</td>\n",
       "      <td>100</td>\n",
       "      <td>08:45.3</td>\n",
       "      <td>47.529846</td>\n",
       "      <td>-122.27584</td>\n",
       "      <td>0101000020E61000006FBBD05CA7915EC04DF564FED1C3...</td>\n",
       "      <td>Sweet Seattle Urban Homestead 2 Bdr</td>\n",
       "      <td>USD</td>\n",
       "      <td>nightly</td>\n",
       "    </tr>\n",
       "    <tr>\n",
       "      <th>2</th>\n",
       "      <td>2</td>\n",
       "      <td>4291</td>\n",
       "      <td>35749</td>\n",
       "      <td>Private room</td>\n",
       "      <td>Seattle, WA, United States</td>\n",
       "      <td>63</td>\n",
       "      <td>4.5</td>\n",
       "      <td>2</td>\n",
       "      <td>1</td>\n",
       "      <td>1</td>\n",
       "      <td>82</td>\n",
       "      <td>04:19.9</td>\n",
       "      <td>47.687801</td>\n",
       "      <td>-122.313427</td>\n",
       "      <td>0101000020E6100000BDAB1E300F945EC0FB93F8DC09D8...</td>\n",
       "      <td>Sunrise in Seattle Master Suite</td>\n",
       "      <td>USD</td>\n",
       "      <td>nightly</td>\n",
       "    </tr>\n",
       "    <tr>\n",
       "      <th>3</th>\n",
       "      <td>3</td>\n",
       "      <td>5682</td>\n",
       "      <td>8993</td>\n",
       "      <td>Entire home/apt</td>\n",
       "      <td>Seattle, WA, United States</td>\n",
       "      <td>462</td>\n",
       "      <td>5</td>\n",
       "      <td>2</td>\n",
       "      <td>0</td>\n",
       "      <td>1</td>\n",
       "      <td>49</td>\n",
       "      <td>11:25.5</td>\n",
       "      <td>47.52398</td>\n",
       "      <td>-122.359891</td>\n",
       "      <td>0101000020E6100000FCC7427408975EC009E1D1C611C3...</td>\n",
       "      <td>Cozy Studio, min. to downtown -WiFi</td>\n",
       "      <td>USD</td>\n",
       "      <td>nightly</td>\n",
       "    </tr>\n",
       "    <tr>\n",
       "      <th>4</th>\n",
       "      <td>4</td>\n",
       "      <td>6606</td>\n",
       "      <td>14942</td>\n",
       "      <td>Entire home/apt</td>\n",
       "      <td>Seattle, WA, United States</td>\n",
       "      <td>134</td>\n",
       "      <td>4.5</td>\n",
       "      <td>2</td>\n",
       "      <td>1</td>\n",
       "      <td>1</td>\n",
       "      <td>90</td>\n",
       "      <td>12:38.4</td>\n",
       "      <td>47.654109</td>\n",
       "      <td>-122.337605</td>\n",
       "      <td>0101000020E6100000D47D00529B955EC07782FDD7B9D3...</td>\n",
       "      <td>Fab, private seattle urban cottage!</td>\n",
       "      <td>USD</td>\n",
       "      <td>nightly</td>\n",
       "    </tr>\n",
       "  </tbody>\n",
       "</table>\n",
       "</div>"
      ],
      "text/plain": [
       "   Unnamed: 0  room_id  host_id        room_type                     address  \\\n",
       "0           0     2318     2536  Entire home/apt  Seattle, WA, United States   \n",
       "1           1     3335     4193  Entire home/apt  Seattle, WA, United States   \n",
       "2           2     4291    35749     Private room  Seattle, WA, United States   \n",
       "3           3     5682     8993  Entire home/apt  Seattle, WA, United States   \n",
       "4           4     6606    14942  Entire home/apt  Seattle, WA, United States   \n",
       "\n",
       "   reviews overall_satisfaction  accommodates  bedrooms bathrooms  price  \\\n",
       "0       21                    5             8         4       2.5    250   \n",
       "1        1                  NaN             4         2         1    100   \n",
       "2       63                  4.5             2         1         1     82   \n",
       "3      462                    5             2         0         1     49   \n",
       "4      134                  4.5             2         1         1     90   \n",
       "\n",
       "  last_modified   latitude    longitude  \\\n",
       "0       46:14.7  47.610819  -122.290816   \n",
       "1       08:45.3  47.529846   -122.27584   \n",
       "2       04:19.9  47.687801  -122.313427   \n",
       "3       11:25.5   47.52398  -122.359891   \n",
       "4       12:38.4  47.654109  -122.337605   \n",
       "\n",
       "                                            location  \\\n",
       "0  0101000020E6100000D449B6BA9C925EC0416326512FCE...   \n",
       "1  0101000020E61000006FBBD05CA7915EC04DF564FED1C3...   \n",
       "2  0101000020E6100000BDAB1E300F945EC0FB93F8DC09D8...   \n",
       "3  0101000020E6100000FCC7427408975EC009E1D1C611C3...   \n",
       "4  0101000020E6100000D47D00529B955EC07782FDD7B9D3...   \n",
       "\n",
       "                                                name currency rate_type  \n",
       "0  Casa Madrona - Urban Oasis, 1 block from the P...      USD   nightly  \n",
       "1                Sweet Seattle Urban Homestead 2 Bdr      USD   nightly  \n",
       "2                    Sunrise in Seattle Master Suite      USD   nightly  \n",
       "3                Cozy Studio, min. to downtown -WiFi      USD   nightly  \n",
       "4                Fab, private seattle urban cottage!      USD   nightly  "
      ]
     },
     "execution_count": 3,
     "metadata": {},
     "output_type": "execute_result"
    }
   ],
   "source": [
    "seattle.head()"
   ]
  },
  {
   "cell_type": "code",
   "execution_count": 4,
   "metadata": {},
   "outputs": [
    {
     "data": {
      "text/html": [
       "<div>\n",
       "<style scoped>\n",
       "    .dataframe tbody tr th:only-of-type {\n",
       "        vertical-align: middle;\n",
       "    }\n",
       "\n",
       "    .dataframe tbody tr th {\n",
       "        vertical-align: top;\n",
       "    }\n",
       "\n",
       "    .dataframe thead th {\n",
       "        text-align: right;\n",
       "    }\n",
       "</style>\n",
       "<table border=\"1\" class=\"dataframe\">\n",
       "  <thead>\n",
       "    <tr style=\"text-align: right;\">\n",
       "      <th></th>\n",
       "      <th>Unnamed: 0</th>\n",
       "      <th>room_id</th>\n",
       "      <th>host_id</th>\n",
       "      <th>room_type</th>\n",
       "      <th>address</th>\n",
       "      <th>reviews</th>\n",
       "      <th>overall_satisfaction</th>\n",
       "      <th>accommodates</th>\n",
       "      <th>bedrooms</th>\n",
       "      <th>bathrooms</th>\n",
       "      <th>price</th>\n",
       "      <th>last_modified</th>\n",
       "      <th>latitude</th>\n",
       "      <th>longitude</th>\n",
       "      <th>location</th>\n",
       "      <th>name</th>\n",
       "      <th>currency</th>\n",
       "      <th>rate_type</th>\n",
       "    </tr>\n",
       "  </thead>\n",
       "  <tbody>\n",
       "    <tr>\n",
       "      <th>7571</th>\n",
       "      <td>7970</td>\n",
       "      <td>30976187</td>\n",
       "      <td>231435350</td>\n",
       "      <td>Entire home/apt</td>\n",
       "      <td>Seattle, WA, United States</td>\n",
       "      <td>0</td>\n",
       "      <td>NaN</td>\n",
       "      <td>4</td>\n",
       "      <td>1</td>\n",
       "      <td>1</td>\n",
       "      <td>78</td>\n",
       "      <td>56:11.4</td>\n",
       "      <td>47.611444</td>\n",
       "      <td>-122.33079</td>\n",
       "      <td>0101000020E610000001F6D1A92B955EC0EFAA07CC43CE...</td>\n",
       "      <td>Lovely Downtown Condo WS 97 (Includes Parking)</td>\n",
       "      <td>USD</td>\n",
       "      <td>nightly</td>\n",
       "    </tr>\n",
       "    <tr>\n",
       "      <th>7572</th>\n",
       "      <td>7971</td>\n",
       "      <td>30982022</td>\n",
       "      <td>215426444</td>\n",
       "      <td>Private room</td>\n",
       "      <td>Seattle, WA, United States</td>\n",
       "      <td>0</td>\n",
       "      <td>NaN</td>\n",
       "      <td>3</td>\n",
       "      <td>1</td>\n",
       "      <td>1</td>\n",
       "      <td>34</td>\n",
       "      <td>42:51.0</td>\n",
       "      <td>47.575621</td>\n",
       "      <td>-122.297958</td>\n",
       "      <td>0101000020E610000038656EBE11935EC006F2ECF2ADC9...</td>\n",
       "      <td>2 Beds&amp;Bath Free Parking&amp; LR STA Airport DT UW...</td>\n",
       "      <td>USD</td>\n",
       "      <td>nightly</td>\n",
       "    </tr>\n",
       "    <tr>\n",
       "      <th>7573</th>\n",
       "      <td>7972</td>\n",
       "      <td>30994069</td>\n",
       "      <td>230457966</td>\n",
       "      <td>Entire home/apt</td>\n",
       "      <td>Seattle, WA, United States</td>\n",
       "      <td>0</td>\n",
       "      <td>NaN</td>\n",
       "      <td>2</td>\n",
       "      <td>1</td>\n",
       "      <td>1</td>\n",
       "      <td>80</td>\n",
       "      <td>19:17.8</td>\n",
       "      <td>47.621749</td>\n",
       "      <td>-122.32611</td>\n",
       "      <td>0101000020E610000082397AFCDE945EC00DA9A27895CF...</td>\n",
       "      <td>Vintage  Private Courtyard Apartment</td>\n",
       "      <td>USD</td>\n",
       "      <td>nightly</td>\n",
       "    </tr>\n",
       "    <tr>\n",
       "      <th>7574</th>\n",
       "      <td>7973</td>\n",
       "      <td>30998202</td>\n",
       "      <td>48005494</td>\n",
       "      <td>Entire home/apt</td>\n",
       "      <td>Washington, WA, United States</td>\n",
       "      <td>0</td>\n",
       "      <td>NaN</td>\n",
       "      <td>4</td>\n",
       "      <td>2</td>\n",
       "      <td>2</td>\n",
       "      <td>129</td>\n",
       "      <td>26:52.5</td>\n",
       "      <td>47.624673</td>\n",
       "      <td>-122.336345</td>\n",
       "      <td>0101000020E610000014CB2DAD86955EC0DCD8EC48F5CF...</td>\n",
       "      <td>2BR Apartment</td>\n",
       "      <td>USD</td>\n",
       "      <td>nightly</td>\n",
       "    </tr>\n",
       "    <tr>\n",
       "      <th>7575</th>\n",
       "      <td>7974</td>\n",
       "      <td>30998418</td>\n",
       "      <td>48005494</td>\n",
       "      <td>Entire home/apt</td>\n",
       "      <td>Seattle, WA, United States</td>\n",
       "      <td>0</td>\n",
       "      <td>NaN</td>\n",
       "      <td>2</td>\n",
       "      <td>1</td>\n",
       "      <td>1</td>\n",
       "      <td>151</td>\n",
       "      <td>26:52.5</td>\n",
       "      <td>47.623208</td>\n",
       "      <td>-122.336348</td>\n",
       "      <td>0101000020E6100000CD04C3B986955EC0834D9D47C5CF...</td>\n",
       "      <td>Beautiful 1BR Apartment in Seattle</td>\n",
       "      <td>USD</td>\n",
       "      <td>nightly</td>\n",
       "    </tr>\n",
       "  </tbody>\n",
       "</table>\n",
       "</div>"
      ],
      "text/plain": [
       "      Unnamed: 0   room_id    host_id        room_type  \\\n",
       "7571        7970  30976187  231435350  Entire home/apt   \n",
       "7572        7971  30982022  215426444     Private room   \n",
       "7573        7972  30994069  230457966  Entire home/apt   \n",
       "7574        7973  30998202   48005494  Entire home/apt   \n",
       "7575        7974  30998418   48005494  Entire home/apt   \n",
       "\n",
       "                            address  reviews overall_satisfaction  \\\n",
       "7571     Seattle, WA, United States        0                  NaN   \n",
       "7572     Seattle, WA, United States        0                  NaN   \n",
       "7573     Seattle, WA, United States        0                  NaN   \n",
       "7574  Washington, WA, United States        0                  NaN   \n",
       "7575     Seattle, WA, United States        0                  NaN   \n",
       "\n",
       "      accommodates  bedrooms bathrooms  price last_modified   latitude  \\\n",
       "7571             4         1         1     78       56:11.4  47.611444   \n",
       "7572             3         1         1     34       42:51.0  47.575621   \n",
       "7573             2         1         1     80       19:17.8  47.621749   \n",
       "7574             4         2         2    129       26:52.5  47.624673   \n",
       "7575             2         1         1    151       26:52.5  47.623208   \n",
       "\n",
       "        longitude                                           location  \\\n",
       "7571   -122.33079  0101000020E610000001F6D1A92B955EC0EFAA07CC43CE...   \n",
       "7572  -122.297958  0101000020E610000038656EBE11935EC006F2ECF2ADC9...   \n",
       "7573   -122.32611  0101000020E610000082397AFCDE945EC00DA9A27895CF...   \n",
       "7574  -122.336345  0101000020E610000014CB2DAD86955EC0DCD8EC48F5CF...   \n",
       "7575  -122.336348  0101000020E6100000CD04C3B986955EC0834D9D47C5CF...   \n",
       "\n",
       "                                                   name currency rate_type  \n",
       "7571     Lovely Downtown Condo WS 97 (Includes Parking)      USD   nightly  \n",
       "7572  2 Beds&Bath Free Parking& LR STA Airport DT UW...      USD   nightly  \n",
       "7573               Vintage  Private Courtyard Apartment      USD   nightly  \n",
       "7574                                      2BR Apartment      USD   nightly  \n",
       "7575                 Beautiful 1BR Apartment in Seattle      USD   nightly  "
      ]
     },
     "execution_count": 4,
     "metadata": {},
     "output_type": "execute_result"
    }
   ],
   "source": [
    "seattle.tail()"
   ]
  },
  {
   "cell_type": "markdown",
   "metadata": {},
   "source": [
    "### Check the range of values in the dataset\n"
   ]
  },
  {
   "cell_type": "code",
   "execution_count": 5,
   "metadata": {},
   "outputs": [
    {
     "name": "stdout",
     "output_type": "stream",
     "text": [
      "Unnamed: 0\n",
      "0       1\n",
      "1       1\n",
      "2       1\n",
      "3       1\n",
      "4       1\n",
      "5       1\n",
      "6       1\n",
      "7       1\n",
      "8       1\n",
      "9       1\n",
      "10      1\n",
      "11      1\n",
      "12      1\n",
      "13      1\n",
      "14      1\n",
      "15      1\n",
      "16      1\n",
      "17      1\n",
      "18      1\n",
      "19      1\n",
      "20      1\n",
      "21      1\n",
      "22      1\n",
      "23      1\n",
      "24      1\n",
      "25      1\n",
      "26      1\n",
      "28      1\n",
      "29      1\n",
      "30      1\n",
      "       ..\n",
      "7943    1\n",
      "7945    1\n",
      "7946    1\n",
      "7947    1\n",
      "7948    1\n",
      "7950    1\n",
      "7951    1\n",
      "7952    1\n",
      "7953    1\n",
      "7954    1\n",
      "7955    1\n",
      "7956    1\n",
      "7957    1\n",
      "7958    1\n",
      "7959    1\n",
      "7960    1\n",
      "7961    1\n",
      "7962    1\n",
      "7963    1\n",
      "7964    1\n",
      "7965    1\n",
      "7966    1\n",
      "7967    1\n",
      "7968    1\n",
      "7969    1\n",
      "7970    1\n",
      "7971    1\n",
      "7972    1\n",
      "7973    1\n",
      "7974    1\n",
      "Length: 7576, dtype: int64 \n",
      "\n",
      "room_id\n",
      "2318        1\n",
      "3335        1\n",
      "4291        1\n",
      "5682        1\n",
      "6606        1\n",
      "9419        1\n",
      "9460        1\n",
      "9531        1\n",
      "9534        1\n",
      "9596        1\n",
      "9909        1\n",
      "10209       1\n",
      "10385       1\n",
      "10695       1\n",
      "11012       1\n",
      "14386       1\n",
      "15108       1\n",
      "15749       1\n",
      "17951       1\n",
      "18042       1\n",
      "19619       1\n",
      "20868       1\n",
      "20927       1\n",
      "20928       1\n",
      "23192       1\n",
      "23356       1\n",
      "23403       1\n",
      "24212       1\n",
      "25002       1\n",
      "26116       1\n",
      "           ..\n",
      "30882134    1\n",
      "30883279    1\n",
      "30886613    1\n",
      "30887522    1\n",
      "30894545    1\n",
      "30905853    1\n",
      "30908954    1\n",
      "30915295    1\n",
      "30916586    1\n",
      "30929081    1\n",
      "30929303    1\n",
      "30934689    1\n",
      "30934778    1\n",
      "30935352    1\n",
      "30937435    1\n",
      "30937716    1\n",
      "30939784    1\n",
      "30952709    1\n",
      "30955596    1\n",
      "30956677    1\n",
      "30959960    1\n",
      "30961985    1\n",
      "30963639    1\n",
      "30964021    1\n",
      "30966290    1\n",
      "30976187    1\n",
      "30982022    1\n",
      "30994069    1\n",
      "30998202    1\n",
      "30998418    1\n",
      "Length: 7576, dtype: int64 \n",
      "\n",
      "host_id\n",
      "2536         3\n",
      "4193         2\n",
      "4797         1\n",
      "8021         1\n",
      "8993         1\n",
      "13833        1\n",
      "14942        3\n",
      "20731        2\n",
      "30559        5\n",
      "30604        1\n",
      "30832        3\n",
      "31280        3\n",
      "31481        2\n",
      "31509        2\n",
      "31553        1\n",
      "33360        7\n",
      "35292        1\n",
      "35749        4\n",
      "39377        3\n",
      "41044        1\n",
      "42293        1\n",
      "43811        1\n",
      "45334        1\n",
      "50893        2\n",
      "53050        1\n",
      "54660        1\n",
      "61636        1\n",
      "64955        1\n",
      "66145        6\n",
      "69549        1\n",
      "            ..\n",
      "227643634    1\n",
      "227666883    1\n",
      "228014814    1\n",
      "228293047    1\n",
      "228426420    2\n",
      "228515066    1\n",
      "228547684    1\n",
      "228745141    1\n",
      "228982176    1\n",
      "229095817    6\n",
      "229156334    1\n",
      "229308447    1\n",
      "229309510    1\n",
      "229337083    1\n",
      "229464532    1\n",
      "229609101    2\n",
      "229768950    1\n",
      "229783666    1\n",
      "230248235    1\n",
      "230270645    1\n",
      "230309900    1\n",
      "230351201    1\n",
      "230457966    1\n",
      "230538741    2\n",
      "230698821    1\n",
      "230714627    1\n",
      "230718029    1\n",
      "230833983    1\n",
      "230838662    1\n",
      "231435350    1\n",
      "Length: 4382, dtype: int64 \n",
      "\n",
      "room_type\n",
      "Entire home/apt    5603\n",
      "Private room       1844\n",
      "Shared room         129\n",
      "dtype: int64 \n",
      "\n",
      "address\n",
      "Ballard Seattle, WA, United States               1\n",
      "Ballard, Seattle, WA, United States              1\n",
      "Bellevue, WA, United States                    322\n",
      "Bothell, WA, United States                       2\n",
      "Capitol Hill, Seattle, WA, United States         1\n",
      "Clyde Hill, WA, United States                    2\n",
      "Hunts Point, WA, United States                   1\n",
      "Kirkland , WA, United States                     1\n",
      "Kirkland , Wa, United States                     1\n",
      "Kirkland, WA, United States                    200\n",
      "Medina, WA, United States                        4\n",
      "Mercer Island, WA, United States                50\n",
      "Newcastle, WA, United States                    49\n",
      "Redmond, WA, United States                     110\n",
      "Renton, WA, United States                       39\n",
      "Seattle , WA, United States                      2\n",
      "Seattle, DC, United States                       1\n",
      "Seattle, United States                          70\n",
      "Seattle, WA                                      1\n",
      "Seattle, WA, United States                    6710\n",
      "Seattle, Washington, US, WA, United States       1\n",
      "Tukwila, WA, United States                       1\n",
      "Vashon, WA, United States                        1\n",
      "Washington, WA, United States                    1\n",
      "West Seattle, WA, United States                  1\n",
      "Yarrow Point, WA, United States                  2\n",
      "西雅图, WA, United States                           1\n",
      "dtype: int64 \n",
      "\n",
      "reviews\n",
      "0      803\n",
      "1      387\n",
      "2      283\n",
      "3      252\n",
      "4      199\n",
      "5      170\n",
      "6      175\n",
      "7      154\n",
      "8      158\n",
      "9      142\n",
      "10     107\n",
      "11     107\n",
      "12      98\n",
      "13      98\n",
      "14      97\n",
      "15      96\n",
      "16      84\n",
      "17      77\n",
      "18      84\n",
      "19      76\n",
      "20      65\n",
      "21      82\n",
      "22      70\n",
      "23      60\n",
      "24      74\n",
      "25      59\n",
      "26      65\n",
      "27      60\n",
      "28      55\n",
      "29      64\n",
      "      ... \n",
      "356      1\n",
      "361      1\n",
      "363      1\n",
      "367      1\n",
      "368      1\n",
      "370      3\n",
      "371      1\n",
      "376      1\n",
      "385      1\n",
      "386      1\n",
      "388      1\n",
      "389      1\n",
      "398      1\n",
      "401      2\n",
      "411      1\n",
      "412      1\n",
      "421      2\n",
      "428      1\n",
      "440      1\n",
      "441      1\n",
      "450      1\n",
      "451      1\n",
      "456      1\n",
      "457      1\n",
      "462      1\n",
      "488      1\n",
      "489      1\n",
      "513      1\n",
      "644      1\n",
      "687      1\n",
      "Length: 347, dtype: int64 \n",
      "\n",
      "overall_satisfaction\n",
      "2.5       1\n",
      "3         4\n",
      "3.5      44\n",
      "4       141\n",
      "4.5    1503\n",
      "5      4410\n",
      "dtype: int64 \n",
      "\n",
      "accommodates\n",
      "1      444\n",
      "2     2757\n",
      "3      974\n",
      "4     1531\n",
      "5      459\n",
      "6      742\n",
      "7      133\n",
      "8      271\n",
      "9       45\n",
      "10      99\n",
      "11      13\n",
      "12      53\n",
      "13       5\n",
      "14      12\n",
      "15       3\n",
      "16      29\n",
      "20       3\n",
      "23       1\n",
      "25       1\n",
      "28       1\n",
      "dtype: int64 \n",
      "\n",
      "bedrooms\n",
      "0     885\n",
      "1    4282\n",
      "2    1481\n",
      "3     611\n",
      "4     213\n",
      "5      72\n",
      "6      20\n",
      "7       9\n",
      "8       3\n",
      "dtype: int64 \n",
      "\n",
      "bathrooms\n",
      "0        10\n",
      "0.5      28\n",
      "1      5630\n",
      "1.5     397\n",
      "2       867\n",
      "2.5     289\n",
      "3       154\n",
      "3.5     150\n",
      "4        34\n",
      "4.5       6\n",
      "5         4\n",
      "6         2\n",
      "8         3\n",
      "dtype: int64 \n",
      "\n",
      "price\n",
      "15        1\n",
      "16        1\n",
      "17        1\n",
      "18        3\n",
      "19        2\n",
      "20       28\n",
      "21        2\n",
      "22        5\n",
      "23        1\n",
      "24        7\n",
      "25       72\n",
      "26        6\n",
      "27       10\n",
      "28       20\n",
      "29       23\n",
      "30       70\n",
      "31        5\n",
      "32       17\n",
      "33       16\n",
      "34       21\n",
      "35       77\n",
      "36       23\n",
      "37       31\n",
      "38       33\n",
      "39       44\n",
      "40      100\n",
      "41       16\n",
      "42       37\n",
      "43       30\n",
      "44       30\n",
      "       ... \n",
      "550       5\n",
      "585       1\n",
      "595       1\n",
      "599       1\n",
      "600       8\n",
      "604       1\n",
      "649       1\n",
      "650       4\n",
      "689       1\n",
      "699       1\n",
      "700       6\n",
      "725       2\n",
      "750       1\n",
      "800       3\n",
      "850       2\n",
      "888       1\n",
      "895       2\n",
      "899       1\n",
      "900       2\n",
      "950       1\n",
      "960       1\n",
      "980       1\n",
      "995       2\n",
      "999       1\n",
      "1200      1\n",
      "1395      1\n",
      "1650      1\n",
      "2800      1\n",
      "3000      1\n",
      "5900      1\n",
      "Length: 351, dtype: int64 \n",
      "\n",
      "last_modified\n",
      "00:03.8     5\n",
      "00:10.5     1\n",
      "00:10.9    16\n",
      "00:12.6     1\n",
      "00:22.8     1\n",
      "00:23.8    13\n",
      "00:27.0     2\n",
      "00:31.1     4\n",
      "00:39.7     3\n",
      "01:15.4    10\n",
      "01:16.4    13\n",
      "01:19.5    17\n",
      "01:20.7    18\n",
      "01:21.6    16\n",
      "01:32.2    15\n",
      "01:33.1    16\n",
      "01:36.2    12\n",
      "01:38.0     1\n",
      "01:38.1    15\n",
      "01:40.0    17\n",
      "01:40.4    14\n",
      "01:44.0    18\n",
      "01:48.1     4\n",
      "01:50.8    15\n",
      "01:56.2    17\n",
      "01:57.4    17\n",
      "01:58.8    18\n",
      "02:00.0     1\n",
      "02:04.7     1\n",
      "02:05.7    12\n",
      "           ..\n",
      "59:15.0     3\n",
      "59:17.6     6\n",
      "59:18.3     8\n",
      "59:19.4    11\n",
      "59:20.6     2\n",
      "59:20.7    10\n",
      "59:21.3    11\n",
      "59:23.4     9\n",
      "59:24.6     9\n",
      "59:27.4    13\n",
      "59:30.1    13\n",
      "59:31.4     9\n",
      "59:32.9     7\n",
      "59:34.1     6\n",
      "59:36.1     1\n",
      "59:37.0     1\n",
      "59:37.7     5\n",
      "59:39.2     6\n",
      "59:39.5     2\n",
      "59:40.2     3\n",
      "59:45.2    17\n",
      "59:49.1     3\n",
      "59:50.4    13\n",
      "59:51.4    13\n",
      "59:53.4    16\n",
      "59:54.9    13\n",
      "59:56.0     3\n",
      "59:56.1    12\n",
      "59:57.3     2\n",
      "59:59.4     2\n",
      "Length: 903, dtype: int64 \n",
      "\n",
      "latitude\n",
      "47.508078    1\n",
      "47.508097    1\n",
      "47.508167    1\n",
      "47.508238    1\n",
      "47.508247    1\n",
      "47.508482    1\n",
      "47.508545    1\n",
      "47.508601    1\n",
      "47.508846    1\n",
      "47.508975    1\n",
      "47.50899     1\n",
      "47.508999    1\n",
      "47.509165    1\n",
      "47.509184    1\n",
      "47.509293    1\n",
      "47.509578    1\n",
      "47.509582    1\n",
      "47.509604    1\n",
      "47.509618    1\n",
      "47.509636    1\n",
      "47.509762    1\n",
      "47.509866    1\n",
      "47.509958    1\n",
      "47.509961    1\n",
      "47.510049    1\n",
      "47.510071    1\n",
      "47.510123    1\n",
      "47.510164    1\n",
      "47.510165    1\n",
      "47.510197    1\n",
      "            ..\n",
      "47.720249    1\n",
      "47.720301    2\n",
      "47.720379    1\n",
      "47.720438    1\n",
      "47.720645    1\n",
      "47.720904    1\n",
      "47.721021    1\n",
      "47.721588    1\n",
      "47.721651    1\n",
      "47.721674    1\n",
      "47.721698    1\n",
      "47.721902    1\n",
      "47.721992    1\n",
      "47.722018    1\n",
      "47.722022    1\n",
      "47.72205     1\n",
      "47.722058    1\n",
      "47.722114    1\n",
      "47.722122    1\n",
      "47.722194    1\n",
      "47.722619    1\n",
      "47.722714    1\n",
      "47.722727    1\n",
      "47.722754    1\n",
      "47.72277     1\n",
      "47.722957    1\n",
      "47.722969    1\n",
      "47.722979    1\n",
      "47.722999    1\n",
      "47.72305     1\n",
      "Length: 7094, dtype: int64 \n",
      "\n",
      "longitude\n",
      "-122.114887    1\n",
      "-122.115498    1\n",
      "-122.115724    1\n",
      "-122.115842    1\n",
      "-122.115856    1\n",
      "-122.115878    1\n",
      "-122.116361    1\n",
      "-122.116365    1\n",
      "-122.116485    1\n",
      "-122.116791    1\n",
      "-122.116795    1\n",
      "-122.117152    1\n",
      "-122.117583    1\n",
      "-122.117911    1\n",
      "-122.118024    1\n",
      "-122.118184    1\n",
      "-122.11822     1\n",
      "-122.118659    1\n",
      "-122.118827    1\n",
      "-122.118881    1\n",
      "-122.11894     1\n",
      "-122.119103    1\n",
      "-122.119293    1\n",
      "-122.119316    1\n",
      "-122.119342    1\n",
      "-122.120043    1\n",
      "-122.120101    1\n",
      "-122.120106    1\n",
      "-122.120288    1\n",
      "-122.1203      1\n",
      "              ..\n",
      "-122.413199    1\n",
      "-122.413366    1\n",
      "-122.41338     1\n",
      "-122.413472    1\n",
      "-122.413515    1\n",
      "-122.413532    1\n",
      "-122.413628    1\n",
      "-122.413666    1\n",
      "-122.413932    1\n",
      "-122.413943    1\n",
      "-122.414314    1\n",
      "-122.41447     1\n",
      "-122.414583    1\n",
      "-122.414606    1\n",
      "-122.414698    1\n",
      "-122.414703    1\n",
      "-122.414879    1\n",
      "-122.415009    1\n",
      "-122.415025    1\n",
      "-122.415109    1\n",
      "-122.4152      1\n",
      "-122.415848    1\n",
      "-122.416362    1\n",
      "-122.416462    1\n",
      "-122.418395    1\n",
      "-122.418954    1\n",
      "-122.419248    1\n",
      "-122.419563    1\n",
      "-122.419637    1\n",
      "-122.420918    1\n",
      "Length: 7092, dtype: int64 \n",
      "\n",
      "location\n",
      "0101000020E61000000000000000955EC08AE76C01A1CD4740    1\n",
      "0101000020E6100000000341800C955EC04DD7135D17CE4740    1\n",
      "0101000020E6100000001B1021AE8A5EC0329067976FCB4740    1\n",
      "0101000020E6100000001B1021AE955EC019575C1C95CD4740    1\n",
      "0101000020E6100000001B1021AE955EC0F88A6EBDA6CD4740    1\n",
      "0101000020E6100000001E51A1BA935EC0D1CE691668CF4740    1\n",
      "0101000020E6100000001E51A1BA955EC033897AC1A7D34740    1\n",
      "0101000020E6100000003620425C8C5EC0A033695375CF4740    1\n",
      "0101000020E610000000378B170B925EC0A9D898D711C74740    1\n",
      "0101000020E6100000003961C268975EC09E62D520CCD54740    1\n",
      "0101000020E6100000003ACC9717975EC0C634D3BD4ED44740    1\n",
      "0101000020E6100000003CA24275975EC08F71C5C551D14740    1\n",
      "0101000020E61000000053060E68935EC0B3CD8DE909D54740    1\n",
      "0101000020E61000000055DCB8C5935EC06C0A647616CF4740    1\n",
      "0101000020E61000000056478E74955EC02C2B4D4A41CD4740    1\n",
      "0101000020E61000000056478E74975EC0E1270EA0DFDB4740    1\n",
      "0101000020E6100000007157AF229A5EC05169C4CC3EC94740    1\n",
      "0101000020E610000000732D5A80925EC035D3BD4EEAC74740    1\n",
      "0101000020E610000000732D5A80945EC0FF21FDF675CE4740    1\n",
      "0101000020E6100000008BFCFA21975EC03B730F09DFCF4740    1\n",
      "0101000020E6100000008C67D0D0945EC0F1BC546CCCD14740    1\n",
      "0101000020E6100000008DD2A57F925EC09E5DBEF561D54740    1\n",
      "0101000020E6100000009013268C995EC08C852172FAC84740    1\n",
      "0101000020E610000000C974E8F4955EC0271422E010CE4740    1\n",
      "0101000020E610000000C974E8F4985EC07F6C921FF1D54740    1\n",
      "0101000020E610000000E1438996945EC0630AD6389BCC4740    1\n",
      "0101000020E610000000E48409A3945EC0D097DEFE5CDC4740    1\n",
      "0101000020E610000000E65AB400945EC0F390291F82CE4740    1\n",
      "0101000020E610000001158E20958A5EC0AC1DC539EACA4740    1\n",
      "0101000020E610000001158E2095955EC051DCF126BFCD4740    1\n",
      "                                                     ..\n",
      "0101000020E6100000FEEDB25F77975EC06C770FD07DD14740    1\n",
      "0101000020E6100000FEF0F3DF83975EC0DA756F4562D24740    1\n",
      "0101000020E6100000FF092E56D4935EC06F9F55664ACF4740    1\n",
      "0101000020E6100000FF092E56D4965EC0A3E6ABE463C14740    1\n",
      "0101000020E6100000FF209221C7895EC0F88A6EBDA6D34740    1\n",
      "0101000020E6100000FF209221C7955EC0B83D4162BBCD4740    1\n",
      "0101000020E6100000FF23D3A1D3955EC091ED7C3F35CE4740    1\n",
      "0101000020E6100000FF3C0D1824975EC02A58E36C3AD44740    1\n",
      "0101000020E6100000FF4124438E955EC00F2BDCF291DA4740    1\n",
      "0101000020E6100000FF428F183D915EC0A4C7EF6DFAC74740    1\n",
      "0101000020E6100000FF428F183D945EC0A6B4FE9600D04740    1\n",
      "0101000020E6100000FF774485EA935EC0032670EB6EDA4740    1\n",
      "0101000020E6100000FF774485EA955EC051DD5CFC6DD14740    1\n",
      "0101000020E6100000FF791A3048965EC03B8BDEA980C34740    1\n",
      "0101000020E6100000FF9254A698975EC01DAA29C93AD04740    1\n",
      "0101000020E6100000FFAF3A72A4905EC0DAE6C6F484C34740    1\n",
      "0101000020E6100000FFAF3A72A4935EC05A0D897B2CCD4740    1\n",
      "0101000020E6100000FFB27BF2B0935EC0FA415DA450C64740    1\n",
      "0101000020E6100000FFB27BF2B0945EC0541EDD088BCE4740    1\n",
      "0101000020E6100000FFCC203EB0955EC04D4C1762F5CD4740    1\n",
      "0101000020E6100000FFCC203EB0955EC0AED4B32094CF4740    1\n",
      "0101000020E6100000FFCD8B135F975EC095F430B43AC14740    1\n",
      "0101000020E6100000FFCD8B135F995EC0486AA16472D64740    1\n",
      "0101000020E6100000FFCF61BEBC935EC0E59A02999DD54740    1\n",
      "0101000020E6100000FFCF61BEBC945EC0BB25396057CF4740    1\n",
      "0101000020E6100000FFCF61BEBC965EC0B9162D40DBDA4740    1\n",
      "0101000020E6100000FFD0CC936B945EC06D6FB72407C84740    1\n",
      "0101000020E6100000FFE89B340D965EC0C478CDAB3AD94740    1\n",
      "0101000020E6100000FFE9060ABC955EC0D4EE5701BECD4740    1\n",
      "0101000020E6100000FFEA71DF6A945EC0689599D2FAD34740    1\n",
      "Length: 7317, dtype: int64 \n",
      "\n",
      "name\n",
      "\"Bellevue Retreat\" - Bellevue, East of Seattle, WA       1\n",
      "\"Captains Quarters\"                                      1\n",
      "\"Chez Vous\" Cozy Lake Union Apartment                    1\n",
      "\"Green\" House City Cabin On the Light Rail               1\n",
      "\"Hellebore House\" -- in the heart of Phinney Ridge       1\n",
      "\"Hermitage\" Garden Room, Modern Peace Queen Anne         1\n",
      "\"Hermitage\" Modern Cozy 2 Bedroom Suite Queen Anne       1\n",
      "\"Hermitage\" Patio Room, Modern Solitude Queen Anne       1\n",
      "\"Home away from Home\"!                                   1\n",
      "\"Little House\" Living in Ballard                         1\n",
      "\"Miss Peaches\" Houseboat                                 1\n",
      "\"Rest Seattle\" Retreat                                   1\n",
      "\"Sleepin' in Seattle\": Best of Pacific Northwest!        1\n",
      "\"Suite 12\" (a private room in our home)                  1\n",
      "\"THE 5-STAR  HOUSE\"                                      1\n",
      "\"THE 5-STAR HOUSE\"                                       1\n",
      "\"THE 5-STAR HOUSE\"                                       1\n",
      "\"THE POST CARD VIEW\" for You - 3                         1\n",
      "\"THE\"  Post Card View 4 U.                               1\n",
      "\"Tommie Residence\" ~20+Min to Seattle DT*                1\n",
      "$135/night (Phone number hidden by Airbnb) Waterfront    1\n",
      "$85 - $125 Night THROUGH March 31, 2019                  1\n",
      "''Jetsetter's lodge'' by Downtown/ConventionCenter       1\n",
      "'Idle hour\" of Clean,warm,private,near Microsoft         1\n",
      "'Picture Perfect Guest Suite’ 8 min. to Seattle.         1\n",
      "(1) MODERN BRAND NEW > PRIME LOC > URBAN LIVING          1\n",
      "(2) BRAND NEW > CAPITOL HILL FLAT PRIME LOC!!            1\n",
      "(6) TINY (house) FLAT > URBAN MODERN > PRIME LOC!!       1\n",
      "(NEW) Wallingford Cottage with Stunning Views!           1\n",
      "** Spacious BR & Bath near Greenlake **                  1\n",
      "                                                        ..\n",
      "★★★Microsoft Redmond RM3                                 1\n",
      "★★★★★ Comfy and Modern Loft - 91 Walk Score!             1\n",
      "★★★★★ Microsoft Redmond RM5                              1\n",
      "★★★★★★MS Redmond RM6                                     1\n",
      "★★★★★★★MS Redmond RM7                                    1\n",
      "★★★★★★★★Microsoft Redmond RM8                            1\n",
      "☆ Sunny Tiny House ☆ Deck & Garden ☆ Parking             1\n",
      "☆Petite, Peaceful RM for 2 ☆ Simple Charm ☆              1\n",
      "☺★Kirkland Shared House柯克兰合租★☺                           1\n",
      "♥ Crayola Home - mountain and lake view ♥                1\n",
      "✋Private Room, Kitchenette, Bathroom & Entrance✅         1\n",
      "✦Perfect Location: Quiet St & Shops✦                     1\n",
      "✨Beautiful, 2 Bedroom Apt for 1-8 guests @Downtown       1\n",
      "✪Cozy BLUE room near Light Rail/Airport/Downtown✪        1\n",
      "✪Cozy GREY room near Light Rail/Airport/Downtown✪        1\n",
      "❣ Charming Capitol Hill Studio|Close to Everything       1\n",
      "❣Winter Beach Escape w/ Fireplace & Private Garage       1\n",
      "❤ Beautiful Cozy Studio in Vibrant Neighborhood          1\n",
      "❤ of Seattle | Walk Score 91 | 2blks to Kerry Park       1\n",
      "❤️ Capitol Hill Studio 7min walk Downtown/ConvtCtr       1\n",
      "❤️ Cherry Blossom Bed & Lite Bkfst Near UW, Dwntwn       1\n",
      "❤️Bright & Clean 1 Bedroom Apartment Downtown            1\n",
      "⭐ Emerald City at Night: Lite Bkfst, Near it All!        1\n",
      "⭐️On Light Rail get to Airport, Dwntwn, Cap Hill⭐️       1\n",
      "【Seattle-Kirkland Nice & Quiet Single Family Home】       1\n",
      "全新装修,交通极为便利                                              1\n",
      "碧近山新房独栋雅居出租                                              1\n",
      "西雅图不眠夜 Sleepless in Seattle                              1\n",
      "西雅圖高級公寓 15分鐘到市中心10分鐘到華大                                  1\n",
      "麦地那独立房间                                                  1\n",
      "Length: 7376, dtype: int64 \n",
      "\n",
      "currency\n",
      "USD    7576\n",
      "dtype: int64 \n",
      "\n",
      "rate_type\n",
      "nightly    7576\n",
      "dtype: int64 \n",
      "\n"
     ]
    }
   ],
   "source": [
    "column_list = seattle.columns.values.tolist()\n",
    "for column_list in seattle:\n",
    "    print (seattle.groupby(column_list).size(), \"\\n\")"
   ]
  },
  {
   "cell_type": "code",
   "execution_count": 6,
   "metadata": {},
   "outputs": [
    {
     "data": {
      "text/html": [
       "<div>\n",
       "<style scoped>\n",
       "    .dataframe tbody tr th:only-of-type {\n",
       "        vertical-align: middle;\n",
       "    }\n",
       "\n",
       "    .dataframe tbody tr th {\n",
       "        vertical-align: top;\n",
       "    }\n",
       "\n",
       "    .dataframe thead th {\n",
       "        text-align: right;\n",
       "    }\n",
       "</style>\n",
       "<table border=\"1\" class=\"dataframe\">\n",
       "  <thead>\n",
       "    <tr style=\"text-align: right;\">\n",
       "      <th></th>\n",
       "      <th>Unnamed: 0</th>\n",
       "      <th>room_id</th>\n",
       "      <th>host_id</th>\n",
       "      <th>reviews</th>\n",
       "      <th>accommodates</th>\n",
       "      <th>bedrooms</th>\n",
       "      <th>price</th>\n",
       "    </tr>\n",
       "  </thead>\n",
       "  <tbody>\n",
       "    <tr>\n",
       "      <th>count</th>\n",
       "      <td>7576.000000</td>\n",
       "      <td>7.576000e+03</td>\n",
       "      <td>7.576000e+03</td>\n",
       "      <td>7576.000000</td>\n",
       "      <td>7576.000000</td>\n",
       "      <td>7576.000000</td>\n",
       "      <td>7576.000000</td>\n",
       "    </tr>\n",
       "    <tr>\n",
       "      <th>mean</th>\n",
       "      <td>3973.628828</td>\n",
       "      <td>1.778928e+07</td>\n",
       "      <td>5.245040e+07</td>\n",
       "      <td>47.657999</td>\n",
       "      <td>3.682946</td>\n",
       "      <td>1.385428</td>\n",
       "      <td>113.024419</td>\n",
       "    </tr>\n",
       "    <tr>\n",
       "      <th>std</th>\n",
       "      <td>2297.417603</td>\n",
       "      <td>8.739765e+06</td>\n",
       "      <td>5.955274e+07</td>\n",
       "      <td>65.889329</td>\n",
       "      <td>2.332280</td>\n",
       "      <td>1.009823</td>\n",
       "      <td>122.481780</td>\n",
       "    </tr>\n",
       "    <tr>\n",
       "      <th>min</th>\n",
       "      <td>0.000000</td>\n",
       "      <td>2.318000e+03</td>\n",
       "      <td>2.536000e+03</td>\n",
       "      <td>0.000000</td>\n",
       "      <td>1.000000</td>\n",
       "      <td>0.000000</td>\n",
       "      <td>15.000000</td>\n",
       "    </tr>\n",
       "    <tr>\n",
       "      <th>25%</th>\n",
       "      <td>1981.750000</td>\n",
       "      <td>1.121214e+07</td>\n",
       "      <td>8.315334e+06</td>\n",
       "      <td>4.000000</td>\n",
       "      <td>2.000000</td>\n",
       "      <td>1.000000</td>\n",
       "      <td>65.000000</td>\n",
       "    </tr>\n",
       "    <tr>\n",
       "      <th>50%</th>\n",
       "      <td>3970.500000</td>\n",
       "      <td>1.960824e+07</td>\n",
       "      <td>2.696758e+07</td>\n",
       "      <td>21.000000</td>\n",
       "      <td>3.000000</td>\n",
       "      <td>1.000000</td>\n",
       "      <td>88.000000</td>\n",
       "    </tr>\n",
       "    <tr>\n",
       "      <th>75%</th>\n",
       "      <td>5945.250000</td>\n",
       "      <td>2.484480e+07</td>\n",
       "      <td>8.073960e+07</td>\n",
       "      <td>64.000000</td>\n",
       "      <td>4.000000</td>\n",
       "      <td>2.000000</td>\n",
       "      <td>125.000000</td>\n",
       "    </tr>\n",
       "    <tr>\n",
       "      <th>max</th>\n",
       "      <td>7974.000000</td>\n",
       "      <td>3.099842e+07</td>\n",
       "      <td>2.314354e+08</td>\n",
       "      <td>687.000000</td>\n",
       "      <td>28.000000</td>\n",
       "      <td>8.000000</td>\n",
       "      <td>5900.000000</td>\n",
       "    </tr>\n",
       "  </tbody>\n",
       "</table>\n",
       "</div>"
      ],
      "text/plain": [
       "        Unnamed: 0       room_id       host_id      reviews  accommodates  \\\n",
       "count  7576.000000  7.576000e+03  7.576000e+03  7576.000000   7576.000000   \n",
       "mean   3973.628828  1.778928e+07  5.245040e+07    47.657999      3.682946   \n",
       "std    2297.417603  8.739765e+06  5.955274e+07    65.889329      2.332280   \n",
       "min       0.000000  2.318000e+03  2.536000e+03     0.000000      1.000000   \n",
       "25%    1981.750000  1.121214e+07  8.315334e+06     4.000000      2.000000   \n",
       "50%    3970.500000  1.960824e+07  2.696758e+07    21.000000      3.000000   \n",
       "75%    5945.250000  2.484480e+07  8.073960e+07    64.000000      4.000000   \n",
       "max    7974.000000  3.099842e+07  2.314354e+08   687.000000     28.000000   \n",
       "\n",
       "          bedrooms        price  \n",
       "count  7576.000000  7576.000000  \n",
       "mean      1.385428   113.024419  \n",
       "std       1.009823   122.481780  \n",
       "min       0.000000    15.000000  \n",
       "25%       1.000000    65.000000  \n",
       "50%       1.000000    88.000000  \n",
       "75%       2.000000   125.000000  \n",
       "max       8.000000  5900.000000  "
      ]
     },
     "execution_count": 6,
     "metadata": {},
     "output_type": "execute_result"
    }
   ],
   "source": [
    "seattle.describe()"
   ]
  },
  {
   "cell_type": "markdown",
   "metadata": {},
   "source": [
    "### List all column names"
   ]
  },
  {
   "cell_type": "code",
   "execution_count": 7,
   "metadata": {},
   "outputs": [
    {
     "data": {
      "text/plain": [
       "array(['Unnamed: 0', 'room_id', 'host_id', 'room_type', 'address',\n",
       "       'reviews', 'overall_satisfaction', 'accommodates', 'bedrooms',\n",
       "       'bathrooms', 'price', 'last_modified', 'latitude', 'longitude',\n",
       "       'location', 'name', 'currency', 'rate_type'], dtype=object)"
      ]
     },
     "execution_count": 7,
     "metadata": {},
     "output_type": "execute_result"
    }
   ],
   "source": [
    "seattle.columns.values"
   ]
  },
  {
   "cell_type": "markdown",
   "metadata": {},
   "source": [
    "### Type of data present in the dataframe\n"
   ]
  },
  {
   "cell_type": "code",
   "execution_count": 8,
   "metadata": {},
   "outputs": [
    {
     "data": {
      "text/plain": [
       "int64      7\n",
       "object    11\n",
       "dtype: int64"
      ]
     },
     "execution_count": 8,
     "metadata": {},
     "output_type": "execute_result"
    }
   ],
   "source": [
    "seattle.get_dtype_counts()"
   ]
  },
  {
   "cell_type": "markdown",
   "metadata": {},
   "source": [
    "### Overall info about Seattle data"
   ]
  },
  {
   "cell_type": "code",
   "execution_count": 9,
   "metadata": {},
   "outputs": [
    {
     "name": "stdout",
     "output_type": "stream",
     "text": [
      "<class 'pandas.core.frame.DataFrame'>\n",
      "RangeIndex: 7576 entries, 0 to 7575\n",
      "Data columns (total 18 columns):\n",
      "Unnamed: 0              7576 non-null int64\n",
      "room_id                 7576 non-null int64\n",
      "host_id                 7576 non-null int64\n",
      "room_type               7576 non-null object\n",
      "address                 7576 non-null object\n",
      "reviews                 7576 non-null int64\n",
      "overall_satisfaction    6103 non-null object\n",
      "accommodates            7576 non-null int64\n",
      "bedrooms                7576 non-null int64\n",
      "bathrooms               7574 non-null object\n",
      "price                   7576 non-null int64\n",
      "last_modified           7576 non-null object\n",
      "latitude                7576 non-null object\n",
      "longitude               7576 non-null object\n",
      "location                7576 non-null object\n",
      "name                    7576 non-null object\n",
      "currency                7576 non-null object\n",
      "rate_type               7576 non-null object\n",
      "dtypes: int64(7), object(11)\n",
      "memory usage: 1.0+ MB\n"
     ]
    }
   ],
   "source": [
    "seattle.info()"
   ]
  },
  {
   "cell_type": "markdown",
   "metadata": {},
   "source": [
    "## Closer look at the data"
   ]
  },
  {
   "cell_type": "markdown",
   "metadata": {},
   "source": [
    "### Popular room types\n"
   ]
  },
  {
   "cell_type": "code",
   "execution_count": 10,
   "metadata": {},
   "outputs": [
    {
     "data": {
      "text/plain": [
       "Text(0.5, 1.0, 'Type of room that are popular in Seattle Airbnb')"
      ]
     },
     "execution_count": 10,
     "metadata": {},
     "output_type": "execute_result"
    },
    {
     "data": {
      "image/png": "[encoded data removed]",
      "text/plain": [
       "<Figure size 432x288 with 1 Axes>"
      ]
     },
     "metadata": {
      "needs_background": "light"
     },
     "output_type": "display_data"
    }
   ],
   "source": [
    "seattle.groupby('room_type').size().plot(kind='bar')\n",
    "plt.ylabel('Count')\n",
    "plt.xticks(rotation='horizontal')\n",
    "plt.title(\"Type of room that are popular in Seattle Airbnb\")"
   ]
  },
  {
   "cell_type": "markdown",
   "metadata": {},
   "source": [
    "### Popular bedroom preferences"
   ]
  },
  {
   "cell_type": "code",
   "execution_count": 11,
   "metadata": {},
   "outputs": [
    {
     "data": {
      "text/plain": [
       "(array([0, 1, 2, 3, 4, 5, 6, 7, 8]), <a list of 9 Text xticklabel objects>)"
      ]
     },
     "execution_count": 11,
     "metadata": {},
     "output_type": "execute_result"
    },
    {
     "data": {
      "image/png": "[encoded data removed]",
      "text/plain": [
       "<Figure size 432x288 with 1 Axes>"
      ]
     },
     "metadata": {
      "needs_background": "light"
     },
     "output_type": "display_data"
    }
   ],
   "source": [
    "seattle.groupby('bedrooms').size().plot(kind='bar')\n",
    "plt.ylabel('Count')\n",
    "plt.xticks(rotation='horizontal')"
   ]
  },
  {
   "cell_type": "markdown",
   "metadata": {},
   "source": [
    "### Popular bathroom preferences"
   ]
  },
  {
   "cell_type": "code",
   "execution_count": 12,
   "metadata": {},
   "outputs": [
    {
     "data": {
      "text/plain": [
       "(array([ 0,  1,  2,  3,  4,  5,  6,  7,  8,  9, 10, 11, 12]),\n",
       " <a list of 13 Text xticklabel objects>)"
      ]
     },
     "execution_count": 12,
     "metadata": {},
     "output_type": "execute_result"
    },
    {
     "data": {
      "image/png": "[encoded data removed]",
      "text/plain": [
       "<Figure size 720x720 with 1 Axes>"
      ]
     },
     "metadata": {
      "needs_background": "light"
     },
     "output_type": "display_data"
    }
   ],
   "source": [
    "plt.figure(figsize=(10,10))\n",
    "seattle.groupby('bathrooms').size().plot(kind='bar')\n",
    "plt.ylabel('Count')\n",
    "plt.xticks(rotation='horizontal')"
   ]
  },
  {
   "cell_type": "markdown",
   "metadata": {},
   "source": [
    "### Locality wity most expensive AirBnb in Seattle"
   ]
  },
  {
   "cell_type": "code",
   "execution_count": 13,
   "metadata": {},
   "outputs": [
    {
     "data": {
      "text/html": [
       "<div>\n",
       "<style scoped>\n",
       "    .dataframe tbody tr th:only-of-type {\n",
       "        vertical-align: middle;\n",
       "    }\n",
       "\n",
       "    .dataframe tbody tr th {\n",
       "        vertical-align: top;\n",
       "    }\n",
       "\n",
       "    .dataframe thead th {\n",
       "        text-align: right;\n",
       "    }\n",
       "</style>\n",
       "<table border=\"1\" class=\"dataframe\">\n",
       "  <thead>\n",
       "    <tr style=\"text-align: right;\">\n",
       "      <th></th>\n",
       "      <th>Unnamed: 0</th>\n",
       "      <th>room_id</th>\n",
       "      <th>host_id</th>\n",
       "      <th>room_type</th>\n",
       "      <th>address</th>\n",
       "      <th>reviews</th>\n",
       "      <th>overall_satisfaction</th>\n",
       "      <th>accommodates</th>\n",
       "      <th>bedrooms</th>\n",
       "      <th>bathrooms</th>\n",
       "      <th>price</th>\n",
       "      <th>last_modified</th>\n",
       "      <th>latitude</th>\n",
       "      <th>longitude</th>\n",
       "      <th>location</th>\n",
       "      <th>name</th>\n",
       "      <th>currency</th>\n",
       "      <th>rate_type</th>\n",
       "    </tr>\n",
       "  </thead>\n",
       "  <tbody>\n",
       "    <tr>\n",
       "      <th>4260</th>\n",
       "      <td>4475</td>\n",
       "      <td>21015000</td>\n",
       "      <td>67467952</td>\n",
       "      <td>Entire home/apt</td>\n",
       "      <td>Seattle, WA, United States</td>\n",
       "      <td>3</td>\n",
       "      <td>5</td>\n",
       "      <td>16</td>\n",
       "      <td>8</td>\n",
       "      <td>6</td>\n",
       "      <td>1650</td>\n",
       "      <td>33:19.0</td>\n",
       "      <td>47.630824</td>\n",
       "      <td>-122.368964</td>\n",
       "      <td>0101000020E6100000B0592E1B9D975EC015C440D7BED0...</td>\n",
       "      <td>Spacious Family-Friendly Tri-Plex with Views i...</td>\n",
       "      <td>USD</td>\n",
       "      <td>nightly</td>\n",
       "    </tr>\n",
       "    <tr>\n",
       "      <th>3069</th>\n",
       "      <td>3220</td>\n",
       "      <td>16816051</td>\n",
       "      <td>24047404</td>\n",
       "      <td>Entire home/apt</td>\n",
       "      <td>Seattle, WA, United States</td>\n",
       "      <td>2</td>\n",
       "      <td>NaN</td>\n",
       "      <td>15</td>\n",
       "      <td>5</td>\n",
       "      <td>3.5</td>\n",
       "      <td>1395</td>\n",
       "      <td>40:55.7</td>\n",
       "      <td>47.547348</td>\n",
       "      <td>-122.266204</td>\n",
       "      <td>0101000020E61000001F84807C09915EC0F8C3CF7F0FC6...</td>\n",
       "      <td>Seattle Executive Home for Large Gatherings</td>\n",
       "      <td>USD</td>\n",
       "      <td>nightly</td>\n",
       "    </tr>\n",
       "    <tr>\n",
       "      <th>3994</th>\n",
       "      <td>4187</td>\n",
       "      <td>20178074</td>\n",
       "      <td>15178427</td>\n",
       "      <td>Entire home/apt</td>\n",
       "      <td>Seattle, WA, United States</td>\n",
       "      <td>0</td>\n",
       "      <td>NaN</td>\n",
       "      <td>12</td>\n",
       "      <td>6</td>\n",
       "      <td>6</td>\n",
       "      <td>3000</td>\n",
       "      <td>29:42.3</td>\n",
       "      <td>47.658215</td>\n",
       "      <td>-122.381796</td>\n",
       "      <td>0101000020E6100000976F7D586F985EC04A5E9D6340D4...</td>\n",
       "      <td>Mega yacht</td>\n",
       "      <td>USD</td>\n",
       "      <td>nightly</td>\n",
       "    </tr>\n",
       "    <tr>\n",
       "      <th>71</th>\n",
       "      <td>73</td>\n",
       "      <td>152568</td>\n",
       "      <td>734114</td>\n",
       "      <td>Entire home/apt</td>\n",
       "      <td>Mercer Island, WA, United States</td>\n",
       "      <td>2</td>\n",
       "      <td>NaN</td>\n",
       "      <td>10</td>\n",
       "      <td>3</td>\n",
       "      <td>4.5</td>\n",
       "      <td>5900</td>\n",
       "      <td>39:23.6</td>\n",
       "      <td>47.59259</td>\n",
       "      <td>-122.246703</td>\n",
       "      <td>0101000020E6100000CE3461FBC98F5EC0E4F736FDD9CB...</td>\n",
       "      <td>Luxury Waterfront Mansion</td>\n",
       "      <td>USD</td>\n",
       "      <td>nightly</td>\n",
       "    </tr>\n",
       "    <tr>\n",
       "      <th>5691</th>\n",
       "      <td>5956</td>\n",
       "      <td>24885575</td>\n",
       "      <td>117796167</td>\n",
       "      <td>Entire home/apt</td>\n",
       "      <td>Kirkland, WA, United States</td>\n",
       "      <td>2</td>\n",
       "      <td>NaN</td>\n",
       "      <td>8</td>\n",
       "      <td>3</td>\n",
       "      <td>3.5</td>\n",
       "      <td>2800</td>\n",
       "      <td>57:04.8</td>\n",
       "      <td>47.707262</td>\n",
       "      <td>-122.248111</td>\n",
       "      <td>0101000020E6100000C8B1F50CE18F5EC00EDAAB8F87DA...</td>\n",
       "      <td>Waterfront luxury - your own private resort!</td>\n",
       "      <td>USD</td>\n",
       "      <td>nightly</td>\n",
       "    </tr>\n",
       "  </tbody>\n",
       "</table>\n",
       "</div>"
      ],
      "text/plain": [
       "      Unnamed: 0   room_id    host_id        room_type  \\\n",
       "4260        4475  21015000   67467952  Entire home/apt   \n",
       "3069        3220  16816051   24047404  Entire home/apt   \n",
       "3994        4187  20178074   15178427  Entire home/apt   \n",
       "71            73    152568     734114  Entire home/apt   \n",
       "5691        5956  24885575  117796167  Entire home/apt   \n",
       "\n",
       "                               address  reviews overall_satisfaction  \\\n",
       "4260        Seattle, WA, United States        3                    5   \n",
       "3069        Seattle, WA, United States        2                  NaN   \n",
       "3994        Seattle, WA, United States        0                  NaN   \n",
       "71    Mercer Island, WA, United States        2                  NaN   \n",
       "5691       Kirkland, WA, United States        2                  NaN   \n",
       "\n",
       "      accommodates  bedrooms bathrooms  price last_modified   latitude  \\\n",
       "4260            16         8         6   1650       33:19.0  47.630824   \n",
       "3069            15         5       3.5   1395       40:55.7  47.547348   \n",
       "3994            12         6         6   3000       29:42.3  47.658215   \n",
       "71              10         3       4.5   5900       39:23.6   47.59259   \n",
       "5691             8         3       3.5   2800       57:04.8  47.707262   \n",
       "\n",
       "        longitude                                           location  \\\n",
       "4260  -122.368964  0101000020E6100000B0592E1B9D975EC015C440D7BED0...   \n",
       "3069  -122.266204  0101000020E61000001F84807C09915EC0F8C3CF7F0FC6...   \n",
       "3994  -122.381796  0101000020E6100000976F7D586F985EC04A5E9D6340D4...   \n",
       "71    -122.246703  0101000020E6100000CE3461FBC98F5EC0E4F736FDD9CB...   \n",
       "5691  -122.248111  0101000020E6100000C8B1F50CE18F5EC00EDAAB8F87DA...   \n",
       "\n",
       "                                                   name currency rate_type  \n",
       "4260  Spacious Family-Friendly Tri-Plex with Views i...      USD   nightly  \n",
       "3069        Seattle Executive Home for Large Gatherings      USD   nightly  \n",
       "3994                                         Mega yacht      USD   nightly  \n",
       "71                            Luxury Waterfront Mansion      USD   nightly  \n",
       "5691       Waterfront luxury - your own private resort!      USD   nightly  "
      ]
     },
     "execution_count": 13,
     "metadata": {},
     "output_type": "execute_result"
    }
   ],
   "source": [
    "seattle[seattle.price.isin(seattle.price.nlargest())].sort_values(['address','reviews','overall_satisfaction','bedrooms','bathrooms','price','room_type'], ascending= False)"
   ]
  },
  {
   "cell_type": "markdown",
   "metadata": {},
   "source": [
    "## Feature engineering"
   ]
  },
  {
   "cell_type": "code",
   "execution_count": 14,
   "metadata": {},
   "outputs": [],
   "source": [
    "# save original data\n",
    "seattleCopy= seattle.copy()"
   ]
  },
  {
   "cell_type": "code",
   "execution_count": 15,
   "metadata": {},
   "outputs": [
    {
     "data": {
      "text/plain": [
       "(7576, 18)"
      ]
     },
     "execution_count": 15,
     "metadata": {},
     "output_type": "execute_result"
    }
   ],
   "source": [
    "seattleCopy.shape"
   ]
  },
  {
   "cell_type": "code",
   "execution_count": 16,
   "metadata": {},
   "outputs": [],
   "source": [
    "pd.options.display.float_format = '{:.0f}'.format"
   ]
  },
  {
   "cell_type": "markdown",
   "metadata": {},
   "source": [
    "* Unnamed\n",
    "* room_id\n",
    "* host_id\n",
    "* latitude\n",
    "* longitude\n",
    "* last_modified\n",
    "\n",
    "#### These columns mainly has ID kind of values and can is omitted "
   ]
  },
  {
   "cell_type": "code",
   "execution_count": 17,
   "metadata": {},
   "outputs": [],
   "source": [
    "seattleCopy.drop(['Unnamed: 0', 'room_id', 'host_id', 'latitude', 'longitude','last_modified','location', 'name', 'currency', 'rate_type'], axis=1, inplace=True)"
   ]
  },
  {
   "cell_type": "markdown",
   "metadata": {},
   "source": [
    "### Check column names if they have been removed from the dataframe"
   ]
  },
  {
   "cell_type": "code",
   "execution_count": 18,
   "metadata": {},
   "outputs": [
    {
     "name": "stdout",
     "output_type": "stream",
     "text": [
      "<class 'pandas.core.frame.DataFrame'>\n",
      "RangeIndex: 7576 entries, 0 to 7575\n",
      "Data columns (total 8 columns):\n",
      "room_type               7576 non-null object\n",
      "address                 7576 non-null object\n",
      "reviews                 7576 non-null int64\n",
      "overall_satisfaction    6103 non-null object\n",
      "accommodates            7576 non-null int64\n",
      "bedrooms                7576 non-null int64\n",
      "bathrooms               7574 non-null object\n",
      "price                   7576 non-null int64\n",
      "dtypes: int64(4), object(4)\n",
      "memory usage: 473.6+ KB\n"
     ]
    }
   ],
   "source": [
    "seattleCopy.info()"
   ]
  },
  {
   "cell_type": "code",
   "execution_count": 19,
   "metadata": {},
   "outputs": [
    {
     "data": {
      "text/plain": [
       "array(['Seattle, WA, United States', 'Kirkland, WA, United States',\n",
       "       'Bellevue, WA, United States', 'Redmond, WA, United States',\n",
       "       'Mercer Island, WA, United States', 'Seattle, WA',\n",
       "       'Renton, WA, United States', 'Ballard, Seattle, WA, United States',\n",
       "       'West Seattle, WA, United States', 'Medina, WA, United States',\n",
       "       '西雅图, WA, United States', 'Newcastle, WA, United States',\n",
       "       'Seattle , WA, United States',\n",
       "       'Ballard Seattle, WA, United States',\n",
       "       'Yarrow Point, WA, United States', 'Clyde Hill, WA, United States',\n",
       "       'Tukwila, WA, United States',\n",
       "       'Seattle, Washington, US, WA, United States',\n",
       "       'Capitol Hill, Seattle, WA, United States',\n",
       "       'Kirkland , Wa, United States', 'Hunts Point, WA, United States',\n",
       "       'Seattle, DC, United States', 'Seattle, United States',\n",
       "       'Vashon, WA, United States', 'Kirkland , WA, United States',\n",
       "       'Bothell, WA, United States', 'Washington, WA, United States'],\n",
       "      dtype=object)"
      ]
     },
     "execution_count": 19,
     "metadata": {},
     "output_type": "execute_result"
    }
   ],
   "source": [
    "seattleCopy.address.unique()"
   ]
  },
  {
   "cell_type": "markdown",
   "metadata": {},
   "source": [
    "#### Same addresses are repeated in different formats. We will be replacing similar addresses"
   ]
  },
  {
   "cell_type": "code",
   "execution_count": 20,
   "metadata": {},
   "outputs": [],
   "source": [
    "seattleCopy= seattleCopy.replace({\"Ballard Seattle, WA, United States\": \"Ballard, Seattle, WA, United States\",\n",
    "                                  \"Kirkland , Wa, United States\":\"Kirkland, WA, United States\",\n",
    "                                  \"Seattle, DC, United States\":\"Seattle, WA, United States\",\n",
    "                                  \"Seattle, United States\":\"Seattle, WA, United States\",\n",
    "                                  \"Seattle, WA \":\"Seattle, WA, United States\",\n",
    "                                  \"Seattle, WA, United States\":\"Seattle, WA, United States\",\n",
    "                                  \"Seattle, Washington, US, WA, United States\":\"Seattle, WA, United States\",\n",
    "                                  \"西雅图, WA, United States\":\"Seattle, WA, United States\",\n",
    "                                 \"Seattle , WA, United States\": \"Seattle, WA, United States\",\n",
    "                                 \"Seattle, WA\": \"Seattle, WA, United States\"})"
   ]
  },
  {
   "cell_type": "markdown",
   "metadata": {},
   "source": [
    "### Lists column to check if addresses have been replaced properly"
   ]
  },
  {
   "cell_type": "code",
   "execution_count": 21,
   "metadata": {
    "scrolled": true
   },
   "outputs": [
    {
     "data": {
      "text/plain": [
       "0      Seattle, WA, United States\n",
       "1      Seattle, WA, United States\n",
       "2      Seattle, WA, United States\n",
       "3      Seattle, WA, United States\n",
       "4      Seattle, WA, United States\n",
       "5      Seattle, WA, United States\n",
       "6      Seattle, WA, United States\n",
       "7      Seattle, WA, United States\n",
       "8      Seattle, WA, United States\n",
       "9      Seattle, WA, United States\n",
       "10     Seattle, WA, United States\n",
       "11     Seattle, WA, United States\n",
       "12     Seattle, WA, United States\n",
       "13     Seattle, WA, United States\n",
       "14     Seattle, WA, United States\n",
       "15     Seattle, WA, United States\n",
       "16     Seattle, WA, United States\n",
       "17     Seattle, WA, United States\n",
       "18     Seattle, WA, United States\n",
       "19    Kirkland, WA, United States\n",
       "20     Seattle, WA, United States\n",
       "21     Seattle, WA, United States\n",
       "22     Seattle, WA, United States\n",
       "23     Seattle, WA, United States\n",
       "24     Seattle, WA, United States\n",
       "25     Seattle, WA, United States\n",
       "26    Bellevue, WA, United States\n",
       "27     Seattle, WA, United States\n",
       "28     Seattle, WA, United States\n",
       "29     Seattle, WA, United States\n",
       "Name: address, dtype: object"
      ]
     },
     "execution_count": 21,
     "metadata": {},
     "output_type": "execute_result"
    }
   ],
   "source": [
    "seattleCopy['address'].head(n=30)"
   ]
  },
  {
   "cell_type": "markdown",
   "metadata": {},
   "source": [
    "## Dealing with missing values"
   ]
  },
  {
   "cell_type": "code",
   "execution_count": 22,
   "metadata": {},
   "outputs": [
    {
     "data": {
      "text/plain": [
       "room_type                  0\n",
       "address                    0\n",
       "reviews                    0\n",
       "overall_satisfaction    1473\n",
       "accommodates               0\n",
       "bedrooms                   0\n",
       "bathrooms                  2\n",
       "price                      0\n",
       "dtype: int64"
      ]
     },
     "execution_count": 22,
     "metadata": {},
     "output_type": "execute_result"
    }
   ],
   "source": [
    " seattleCopy.apply(lambda x: sum(x.isnull()),axis=0)"
   ]
  },
  {
   "cell_type": "code",
   "execution_count": 23,
   "metadata": {},
   "outputs": [],
   "source": [
    "# seattleCopy=seattleCopy.dropna()\n",
    "# seattleCopy.shape"
   ]
  },
  {
   "cell_type": "code",
   "execution_count": 24,
   "metadata": {},
   "outputs": [],
   "source": [
    "# from sklearn.experimental import enable_iterative_imputer\n",
    "# from sklearn.impute import IterativeImputer"
   ]
  },
  {
   "cell_type": "code",
   "execution_count": 25,
   "metadata": {},
   "outputs": [],
   "source": [
    "# from sklearn.impute import SimpleImputer\n",
    "# imp = SimpleImputer(strategy=\"mean\")\n",
    "# (imp.fit_transform(seattleCopy.drop(['address','room_type'], axis=1)))"
   ]
  },
  {
   "cell_type": "code",
   "execution_count": null,
   "metadata": {},
   "outputs": [],
   "source": []
  },
  {
   "cell_type": "markdown",
   "metadata": {},
   "source": [
    "### Check which are in category features"
   ]
  },
  {
   "cell_type": "code",
   "execution_count": 26,
   "metadata": {},
   "outputs": [
    {
     "name": "stdout",
     "output_type": "stream",
     "text": [
      "Categorical features are:  ['room_type', 'address', 'overall_satisfaction', 'bathrooms']\n"
     ]
    }
   ],
   "source": [
    "category_features = seattleCopy.select_dtypes(include=['object']).columns.tolist()\n",
    "print(\"Categorical features are: \", category_features)"
   ]
  },
  {
   "cell_type": "markdown",
   "metadata": {},
   "source": [
    "#### convert 'room_type' to categories."
   ]
  },
  {
   "cell_type": "code",
   "execution_count": 27,
   "metadata": {},
   "outputs": [],
   "source": [
    "seattleCopy['room_type'] = seattleCopy['room_type'].astype('category') "
   ]
  },
  {
   "cell_type": "markdown",
   "metadata": {},
   "source": [
    "### Convert 'address' from object to string"
   ]
  },
  {
   "cell_type": "code",
   "execution_count": 28,
   "metadata": {},
   "outputs": [],
   "source": [
    "seattleCopy['address'] = seattleCopy['address'].astype('str') "
   ]
  },
  {
   "cell_type": "code",
   "execution_count": 29,
   "metadata": {},
   "outputs": [
    {
     "data": {
      "text/plain": [
       "5      4410\n",
       "4.5    1503\n",
       "4       141\n",
       "3.5      44\n",
       "3         4\n",
       "2.5       1\n",
       "Name: overall_satisfaction, dtype: int64"
      ]
     },
     "execution_count": 29,
     "metadata": {},
     "output_type": "execute_result"
    }
   ],
   "source": [
    "seattleCopy['overall_satisfaction'].value_counts()"
   ]
  },
  {
   "cell_type": "code",
   "execution_count": 30,
   "metadata": {},
   "outputs": [
    {
     "data": {
      "text/plain": [
       "(array([0, 1, 2, 3, 4, 5]), <a list of 6 Text xticklabel objects>)"
      ]
     },
     "execution_count": 30,
     "metadata": {},
     "output_type": "execute_result"
    },
    {
     "data": {
      "image/png": "[encoded data removed]",
      "text/plain": [
       "<Figure size 720x720 with 1 Axes>"
      ]
     },
     "metadata": {
      "needs_background": "light"
     },
     "output_type": "display_data"
    }
   ],
   "source": [
    "#Range of overall_satisfaction of Seattle AirBnB\n",
    "\n",
    "plt.figure(figsize=(10,10))\n",
    "seattleCopy.groupby('overall_satisfaction').size().plot(kind='bar')\n",
    "plt.ylabel('Count')\n",
    "plt.xticks(rotation='horizontal')"
   ]
  },
  {
   "cell_type": "markdown",
   "metadata": {},
   "source": [
    "### 'overall_satisfaction' range is decimal. Thus, we must convert it from object to float"
   ]
  },
  {
   "cell_type": "code",
   "execution_count": 31,
   "metadata": {},
   "outputs": [],
   "source": [
    "seattleCopy['overall_satisfaction'] = seattleCopy['overall_satisfaction'].astype('float') "
   ]
  },
  {
   "cell_type": "code",
   "execution_count": 32,
   "metadata": {},
   "outputs": [
    {
     "name": "stderr",
     "output_type": "stream",
     "text": [
      "C:\\Anaconda3\\envs\\py3.7\\lib\\site-packages\\scipy\\stats\\stats.py:1713: FutureWarning: Using a non-tuple sequence for multidimensional indexing is deprecated; use `arr[tuple(seq)]` instead of `arr[seq]`. In the future this will be interpreted as an array index, `arr[np.array(seq)]`, which will result either in an error or a different result.\n",
      "  return np.add.reduce(sorted[indexer] * weights, axis=axis) / sumval\n"
     ]
    },
    {
     "data": {
      "image/png": "[encoded data removed]",
      "text/plain": [
       "<Figure size 432x432 with 3 Axes>"
      ]
     },
     "metadata": {
      "needs_background": "light"
     },
     "output_type": "display_data"
    }
   ],
   "source": [
    "g = sns.jointplot(\"price\", \"overall_satisfaction\", data=seattleCopy, kind=\"reg\")"
   ]
  },
  {
   "cell_type": "code",
   "execution_count": 33,
   "metadata": {},
   "outputs": [
    {
     "data": {
      "text/plain": [
       "<matplotlib.axes._subplots.AxesSubplot at 0x1f086c43780>"
      ]
     },
     "execution_count": 33,
     "metadata": {},
     "output_type": "execute_result"
    },
    {
     "data": {
      "image/png": "[encoded data removed]",
      "text/plain": [
       "<Figure size 432x288 with 1 Axes>"
      ]
     },
     "metadata": {
      "needs_background": "light"
     },
     "output_type": "display_data"
    }
   ],
   "source": [
    "## Distribution plot of price of Seattle Airbnb\n",
    "sns.distplot(seattleCopy.price)"
   ]
  },
  {
   "cell_type": "code",
   "execution_count": 34,
   "metadata": {},
   "outputs": [
    {
     "name": "stderr",
     "output_type": "stream",
     "text": [
      "C:\\Anaconda3\\envs\\py3.7\\lib\\site-packages\\numpy\\lib\\histograms.py:754: RuntimeWarning: invalid value encountered in greater_equal\n",
      "  keep = (tmp_a >= first_edge)\n",
      "C:\\Anaconda3\\envs\\py3.7\\lib\\site-packages\\numpy\\lib\\histograms.py:755: RuntimeWarning: invalid value encountered in less_equal\n",
      "  keep &= (tmp_a <= last_edge)\n",
      "C:\\Anaconda3\\envs\\py3.7\\lib\\site-packages\\statsmodels\\nonparametric\\kde.py:448: RuntimeWarning: invalid value encountered in greater\n",
      "  X = X[np.logical_and(X > clip[0], X < clip[1])] # won't work for two columns.\n",
      "C:\\Anaconda3\\envs\\py3.7\\lib\\site-packages\\statsmodels\\nonparametric\\kde.py:448: RuntimeWarning: invalid value encountered in less\n",
      "  X = X[np.logical_and(X > clip[0], X < clip[1])] # won't work for two columns.\n"
     ]
    },
    {
     "data": {
      "text/plain": [
       "<matplotlib.axes._subplots.AxesSubplot at 0x1f086d5a0b8>"
      ]
     },
     "execution_count": 34,
     "metadata": {},
     "output_type": "execute_result"
    },
    {
     "data": {
      "image/png": "[encoded data removed]",
      "text/plain": [
       "<Figure size 432x288 with 1 Axes>"
      ]
     },
     "metadata": {
      "needs_background": "light"
     },
     "output_type": "display_data"
    }
   ],
   "source": [
    "## Distribution of overall_satisfaction in the Seattle AirBnB dataset\n",
    "sns.distplot(seattleCopy.overall_satisfaction)"
   ]
  },
  {
   "cell_type": "code",
   "execution_count": 35,
   "metadata": {},
   "outputs": [
    {
     "data": {
      "text/plain": [
       "<seaborn.axisgrid.FacetGrid at 0x1f087e0c390>"
      ]
     },
     "execution_count": 35,
     "metadata": {},
     "output_type": "execute_result"
    },
    {
     "data": {
      "image/png": "[encoded data removed]",
      "text/plain": [
       "<Figure size 360x360 with 1 Axes>"
      ]
     },
     "metadata": {
      "needs_background": "light"
     },
     "output_type": "display_data"
    }
   ],
   "source": [
    "sns.relplot(x=\"overall_satisfaction\", y=\"price\", data=seattleCopy)"
   ]
  },
  {
   "cell_type": "code",
   "execution_count": 36,
   "metadata": {},
   "outputs": [
    {
     "data": {
      "text/plain": [
       "<seaborn.axisgrid.FacetGrid at 0x1f087e7cb38>"
      ]
     },
     "execution_count": 36,
     "metadata": {},
     "output_type": "execute_result"
    },
    {
     "data": {
      "image/png": "[encoded data removed]",
      "text/plain": [
       "<Figure size 360x360 with 1 Axes>"
      ]
     },
     "metadata": {
      "needs_background": "light"
     },
     "output_type": "display_data"
    }
   ],
   "source": [
    "# 95% confidence interval\n",
    "sns.relplot(x=\"overall_satisfaction\", y=\"price\", kind=\"line\", data=seattleCopy)"
   ]
  },
  {
   "cell_type": "code",
   "execution_count": 37,
   "metadata": {},
   "outputs": [
    {
     "data": {
      "text/plain": [
       "<seaborn.axisgrid.FacetGrid at 0x1f087efc400>"
      ]
     },
     "execution_count": 37,
     "metadata": {},
     "output_type": "execute_result"
    },
    {
     "data": {
      "image/png": "[encoded data removed]",
      "text/plain": [
       "<Figure size 360x360 with 1 Axes>"
      ]
     },
     "metadata": {
      "needs_background": "light"
     },
     "output_type": "display_data"
    }
   ],
   "source": [
    "## with confidence interval as None\n",
    "sns.relplot(x=\"overall_satisfaction\", y=\"price\", kind=\"line\",ci=None, data=seattleCopy)"
   ]
  },
  {
   "cell_type": "code",
   "execution_count": 38,
   "metadata": {},
   "outputs": [
    {
     "data": {
      "text/plain": [
       "<seaborn.axisgrid.FacetGrid at 0x1f087f5d588>"
      ]
     },
     "execution_count": 38,
     "metadata": {},
     "output_type": "execute_result"
    },
    {
     "data": {
      "image/png": "[encoded data removed]",
      "text/plain": [
       "<Figure size 360x360 with 1 Axes>"
      ]
     },
     "metadata": {
      "needs_background": "light"
     },
     "output_type": "display_data"
    }
   ],
   "source": [
    "# spread of the distribution at each timepoint by plotting the standard deviation instead of a confidence interval:\n",
    "sns.relplot(x=\"overall_satisfaction\", y=\"price\", kind=\"line\",ci='sd', data=seattleCopy)"
   ]
  },
  {
   "cell_type": "code",
   "execution_count": 39,
   "metadata": {},
   "outputs": [
    {
     "data": {
      "text/plain": [
       "<seaborn.axisgrid.FacetGrid at 0x1f087fc1550>"
      ]
     },
     "execution_count": 39,
     "metadata": {},
     "output_type": "execute_result"
    },
    {
     "data": {
      "image/png": "[encoded data removed]",
      "text/plain": [
       "<Figure size 360x360 with 1 Axes>"
      ]
     },
     "metadata": {
      "needs_background": "light"
     },
     "output_type": "display_data"
    }
   ],
   "source": [
    "sns.relplot(x=\"overall_satisfaction\", y=\"price\", kind=\"line\", estimator=None, data=seattleCopy)"
   ]
  },
  {
   "cell_type": "code",
   "execution_count": 40,
   "metadata": {},
   "outputs": [
    {
     "data": {
      "image/png": "[encoded data removed]",
      "text/plain": [
       "<Figure size 288x360 with 1 Axes>"
      ]
     },
     "metadata": {
      "needs_background": "light"
     },
     "output_type": "display_data"
    }
   ],
   "source": [
    "sns.pairplot(seattleCopy, x_vars=[\"overall_satisfaction\"], y_vars=[\"price\"],\n",
    "             height=5, aspect=.8, kind=\"reg\");"
   ]
  },
  {
   "cell_type": "code",
   "execution_count": 41,
   "metadata": {},
   "outputs": [
    {
     "data": {
      "text/plain": [
       "(array([2. , 2.5, 3. , 3.5, 4. , 4.5, 5. , 5.5]),\n",
       " <a list of 8 Text xticklabel objects>)"
      ]
     },
     "execution_count": 41,
     "metadata": {},
     "output_type": "execute_result"
    },
    {
     "data": {
      "image/png": "[encoded data removed]",
      "text/plain": [
       "<Figure size 1080x1080 with 4 Axes>"
      ]
     },
     "metadata": {
      "needs_background": "light"
     },
     "output_type": "display_data"
    }
   ],
   "source": [
    "df1= seattleCopy[['price', 'overall_satisfaction']]\n",
    "from pandas.plotting import scatter_matrix\n",
    "scatter_matrix(df1, alpha=0.2, figsize=(15, 15), diagonal='kde')\n",
    "plt.xticks(rotation='horizontal')"
   ]
  },
  {
   "cell_type": "markdown",
   "metadata": {},
   "source": [
    "#### Check the dataset for null/ blank values"
   ]
  },
  {
   "cell_type": "code",
   "execution_count": 42,
   "metadata": {},
   "outputs": [
    {
     "data": {
      "text/plain": [
       "room_type                  0\n",
       "address                    0\n",
       "reviews                    0\n",
       "overall_satisfaction    1473\n",
       "accommodates               0\n",
       "bedrooms                   0\n",
       "bathrooms                  2\n",
       "price                      0\n",
       "dtype: int64"
      ]
     },
     "execution_count": 42,
     "metadata": {},
     "output_type": "execute_result"
    }
   ],
   "source": [
    " seattleCopy.apply(lambda x: sum(x.isnull()),axis=0)"
   ]
  },
  {
   "cell_type": "markdown",
   "metadata": {},
   "source": [
    "#### Since 'overall_satisfaction' still has 1473 null values, replace them with it's mean."
   ]
  },
  {
   "cell_type": "code",
   "execution_count": 43,
   "metadata": {},
   "outputs": [
    {
     "data": {
      "text/plain": [
       "count   6103\n",
       "mean       5\n",
       "std        0\n",
       "min        2\n",
       "25%        4\n",
       "50%        5\n",
       "75%        5\n",
       "max        5\n",
       "Name: overall_satisfaction, dtype: float64"
      ]
     },
     "execution_count": 43,
     "metadata": {},
     "output_type": "execute_result"
    }
   ],
   "source": [
    "seattleCopy['overall_satisfaction'].describe()"
   ]
  },
  {
   "cell_type": "code",
   "execution_count": 44,
   "metadata": {},
   "outputs": [
    {
     "data": {
      "text/plain": [
       "5.0"
      ]
     },
     "execution_count": 44,
     "metadata": {},
     "output_type": "execute_result"
    }
   ],
   "source": [
    "seattleCopy['overall_satisfaction'].median()"
   ]
  },
  {
   "cell_type": "code",
   "execution_count": 45,
   "metadata": {},
   "outputs": [],
   "source": [
    "#drop NA of overall_satisfaction\n",
    "# seattleCopy=seattleCopy.dropna()"
   ]
  },
  {
   "cell_type": "code",
   "execution_count": 46,
   "metadata": {},
   "outputs": [],
   "source": [
    "# replace missing values with the column mean\n",
    "seattleCopy['overall_satisfaction'] = seattleCopy['overall_satisfaction'].fillna(seattleCopy['overall_satisfaction'].mean(skipna=True))"
   ]
  },
  {
   "cell_type": "code",
   "execution_count": 47,
   "metadata": {},
   "outputs": [
    {
     "data": {
      "text/plain": [
       "count   7576\n",
       "mean       5\n",
       "std        0\n",
       "min        2\n",
       "25%        5\n",
       "50%        5\n",
       "75%        5\n",
       "max        5\n",
       "Name: overall_satisfaction, dtype: float64"
      ]
     },
     "execution_count": 47,
     "metadata": {},
     "output_type": "execute_result"
    }
   ],
   "source": [
    "seattleCopy['overall_satisfaction'].describe()"
   ]
  },
  {
   "cell_type": "code",
   "execution_count": 48,
   "metadata": {},
   "outputs": [
    {
     "data": {
      "text/plain": [
       "room_type               0\n",
       "address                 0\n",
       "reviews                 0\n",
       "overall_satisfaction    0\n",
       "accommodates            0\n",
       "bedrooms                0\n",
       "bathrooms               2\n",
       "price                   0\n",
       "dtype: int64"
      ]
     },
     "execution_count": 48,
     "metadata": {},
     "output_type": "execute_result"
    }
   ],
   "source": [
    " seattleCopy.apply(lambda x: sum(x.isnull()),axis=0)"
   ]
  },
  {
   "cell_type": "code",
   "execution_count": 49,
   "metadata": {},
   "outputs": [
    {
     "data": {
      "text/plain": [
       "0   5\n",
       "1   5\n",
       "2   4\n",
       "3   5\n",
       "4   4\n",
       "Name: overall_satisfaction, dtype: float64"
      ]
     },
     "execution_count": 49,
     "metadata": {},
     "output_type": "execute_result"
    }
   ],
   "source": [
    "seattleCopy['overall_satisfaction'].head()"
   ]
  },
  {
   "cell_type": "markdown",
   "metadata": {},
   "source": [
    "#### Check if NA has been replaced"
   ]
  },
  {
   "cell_type": "code",
   "execution_count": 50,
   "metadata": {},
   "outputs": [
    {
     "data": {
      "text/plain": [
       "room_type               0\n",
       "address                 0\n",
       "reviews                 0\n",
       "overall_satisfaction    0\n",
       "accommodates            0\n",
       "bedrooms                0\n",
       "bathrooms               2\n",
       "price                   0\n",
       "dtype: int64"
      ]
     },
     "execution_count": 50,
     "metadata": {},
     "output_type": "execute_result"
    }
   ],
   "source": [
    " seattleCopy.apply(lambda x: sum(x.isnull()),axis=0)"
   ]
  },
  {
   "cell_type": "markdown",
   "metadata": {},
   "source": [
    "#### Let's take a look at the 'bathroom' column"
   ]
  },
  {
   "cell_type": "code",
   "execution_count": 51,
   "metadata": {},
   "outputs": [
    {
     "data": {
      "text/plain": [
       "1      5630\n",
       "2       867\n",
       "1.5     397\n",
       "2.5     289\n",
       "3       154\n",
       "3.5     150\n",
       "4        34\n",
       "0.5      28\n",
       "0        10\n",
       "4.5       6\n",
       "5         4\n",
       "8         3\n",
       "6         2\n",
       "Name: bathrooms, dtype: int64"
      ]
     },
     "execution_count": 51,
     "metadata": {},
     "output_type": "execute_result"
    }
   ],
   "source": [
    "seattleCopy['bathrooms'].value_counts()"
   ]
  },
  {
   "cell_type": "markdown",
   "metadata": {},
   "source": [
    "#### Similarly, 'bathrooms' range is decimal. Thus, we must convert it from object to float"
   ]
  },
  {
   "cell_type": "code",
   "execution_count": 52,
   "metadata": {},
   "outputs": [],
   "source": [
    "seattleCopy['bathrooms'] = seattleCopy['bathrooms'].astype('float') "
   ]
  },
  {
   "cell_type": "markdown",
   "metadata": {},
   "source": [
    "#### Check the dataset for null/ blank values"
   ]
  },
  {
   "cell_type": "code",
   "execution_count": 53,
   "metadata": {},
   "outputs": [
    {
     "data": {
      "text/plain": [
       "room_type               0\n",
       "address                 0\n",
       "reviews                 0\n",
       "overall_satisfaction    0\n",
       "accommodates            0\n",
       "bedrooms                0\n",
       "bathrooms               2\n",
       "price                   0\n",
       "dtype: int64"
      ]
     },
     "execution_count": 53,
     "metadata": {},
     "output_type": "execute_result"
    }
   ],
   "source": [
    " seattleCopy.apply(lambda x: sum(x.isnull()),axis=0)"
   ]
  },
  {
   "cell_type": "markdown",
   "metadata": {},
   "source": [
    "#### Since 'bathrooms' still has 2 null values, replace that with it's mean."
   ]
  },
  {
   "cell_type": "code",
   "execution_count": 54,
   "metadata": {},
   "outputs": [
    {
     "data": {
      "text/plain": [
       "count   7574\n",
       "mean       1\n",
       "std        1\n",
       "min        0\n",
       "25%        1\n",
       "50%        1\n",
       "75%        2\n",
       "max        8\n",
       "Name: bathrooms, dtype: float64"
      ]
     },
     "execution_count": 54,
     "metadata": {},
     "output_type": "execute_result"
    }
   ],
   "source": [
    "seattleCopy['bathrooms'].describe()"
   ]
  },
  {
   "cell_type": "code",
   "execution_count": 55,
   "metadata": {},
   "outputs": [],
   "source": [
    "seattleCopy['bathrooms'] = seattleCopy['bathrooms'].fillna(seattleCopy['bathrooms'].mean())"
   ]
  },
  {
   "cell_type": "code",
   "execution_count": 56,
   "metadata": {},
   "outputs": [
    {
     "data": {
      "text/plain": [
       "0   2\n",
       "1   1\n",
       "2   1\n",
       "3   1\n",
       "4   1\n",
       "Name: bathrooms, dtype: float64"
      ]
     },
     "execution_count": 56,
     "metadata": {},
     "output_type": "execute_result"
    }
   ],
   "source": [
    "seattleCopy['bathrooms'].head()"
   ]
  },
  {
   "cell_type": "markdown",
   "metadata": {},
   "source": [
    "#### Check if NA has been replaced"
   ]
  },
  {
   "cell_type": "code",
   "execution_count": 57,
   "metadata": {},
   "outputs": [
    {
     "data": {
      "text/plain": [
       "room_type               0\n",
       "address                 0\n",
       "reviews                 0\n",
       "overall_satisfaction    0\n",
       "accommodates            0\n",
       "bedrooms                0\n",
       "bathrooms               0\n",
       "price                   0\n",
       "dtype: int64"
      ]
     },
     "execution_count": 57,
     "metadata": {},
     "output_type": "execute_result"
    }
   ],
   "source": [
    " seattleCopy.apply(lambda x: sum(x.isnull()),axis=0)"
   ]
  },
  {
   "cell_type": "code",
   "execution_count": 58,
   "metadata": {},
   "outputs": [
    {
     "data": {
      "text/plain": [
       "(7576, 8)"
      ]
     },
     "execution_count": 58,
     "metadata": {},
     "output_type": "execute_result"
    }
   ],
   "source": [
    "seattleCopy.shape"
   ]
  },
  {
   "cell_type": "markdown",
   "metadata": {},
   "source": [
    "### All null/blank values have been replaced. "
   ]
  },
  {
   "cell_type": "code",
   "execution_count": 59,
   "metadata": {},
   "outputs": [
    {
     "data": {
      "text/plain": [
       "room_type               category\n",
       "address                   object\n",
       "reviews                    int64\n",
       "overall_satisfaction     float64\n",
       "accommodates               int64\n",
       "bedrooms                   int64\n",
       "bathrooms                float64\n",
       "price                      int64\n",
       "dtype: object"
      ]
     },
     "execution_count": 59,
     "metadata": {},
     "output_type": "execute_result"
    }
   ],
   "source": [
    "seattleCopy.dtypes"
   ]
  },
  {
   "cell_type": "markdown",
   "metadata": {},
   "source": [
    "### Label encoding the 'room_type' column, which is mainly a category"
   ]
  },
  {
   "cell_type": "code",
   "execution_count": 60,
   "metadata": {},
   "outputs": [],
   "source": [
    "# label encoding the 'room_type'   \n",
    "le = LabelEncoder() \n",
    "seattleCopy['room_type']= le.fit_transform(seattleCopy['room_type']) "
   ]
  },
  {
   "cell_type": "code",
   "execution_count": 61,
   "metadata": {},
   "outputs": [
    {
     "data": {
      "text/plain": [
       "0    5603\n",
       "1    1844\n",
       "2     129\n",
       "Name: room_type, dtype: int64"
      ]
     },
     "execution_count": 61,
     "metadata": {},
     "output_type": "execute_result"
    }
   ],
   "source": [
    "seattleCopy['room_type'].value_counts()"
   ]
  },
  {
   "cell_type": "markdown",
   "metadata": {},
   "source": [
    "### Now 'room_type',\n",
    "* 0 : Entire home/apt\n",
    "* 1 : Private room \n",
    "* 2 : Shared room"
   ]
  },
  {
   "cell_type": "code",
   "execution_count": 62,
   "metadata": {},
   "outputs": [
    {
     "data": {
      "text/plain": [
       "count   7576\n",
       "mean       0\n",
       "std        0\n",
       "min        0\n",
       "25%        0\n",
       "50%        0\n",
       "75%        1\n",
       "max        2\n",
       "Name: room_type, dtype: float64"
      ]
     },
     "execution_count": 62,
     "metadata": {},
     "output_type": "execute_result"
    }
   ],
   "source": [
    "seattleCopy['room_type'].describe()"
   ]
  },
  {
   "cell_type": "markdown",
   "metadata": {},
   "source": [
    "### Check which are numerical features\n"
   ]
  },
  {
   "cell_type": "code",
   "execution_count": 63,
   "metadata": {},
   "outputs": [
    {
     "name": "stdout",
     "output_type": "stream",
     "text": [
      "Numerical features are:  ['room_type', 'reviews', 'overall_satisfaction', 'accommodates', 'bedrooms', 'bathrooms', 'price']\n"
     ]
    }
   ],
   "source": [
    "# Check which are numerical features\n",
    "num_features =seattleCopy.select_dtypes(include=[np.number]).columns.tolist()\n",
    "print(\"Numerical features are: \", num_features)"
   ]
  },
  {
   "cell_type": "markdown",
   "metadata": {},
   "source": [
    "## Find correlation among variables"
   ]
  },
  {
   "cell_type": "code",
   "execution_count": 64,
   "metadata": {},
   "outputs": [
    {
     "data": {
      "text/html": [
       "<div>\n",
       "<style scoped>\n",
       "    .dataframe tbody tr th:only-of-type {\n",
       "        vertical-align: middle;\n",
       "    }\n",
       "\n",
       "    .dataframe tbody tr th {\n",
       "        vertical-align: top;\n",
       "    }\n",
       "\n",
       "    .dataframe thead th {\n",
       "        text-align: right;\n",
       "    }\n",
       "</style>\n",
       "<table border=\"1\" class=\"dataframe\">\n",
       "  <thead>\n",
       "    <tr style=\"text-align: right;\">\n",
       "      <th></th>\n",
       "      <th>room_type</th>\n",
       "      <th>reviews</th>\n",
       "      <th>overall_satisfaction</th>\n",
       "      <th>accommodates</th>\n",
       "      <th>bedrooms</th>\n",
       "      <th>bathrooms</th>\n",
       "      <th>price</th>\n",
       "    </tr>\n",
       "  </thead>\n",
       "  <tbody>\n",
       "    <tr>\n",
       "      <th>room_type</th>\n",
       "      <td>1</td>\n",
       "      <td>-0</td>\n",
       "      <td>-0</td>\n",
       "      <td>-0</td>\n",
       "      <td>-0</td>\n",
       "      <td>0</td>\n",
       "      <td>-0</td>\n",
       "    </tr>\n",
       "    <tr>\n",
       "      <th>reviews</th>\n",
       "      <td>-0</td>\n",
       "      <td>1</td>\n",
       "      <td>0</td>\n",
       "      <td>-0</td>\n",
       "      <td>-0</td>\n",
       "      <td>-0</td>\n",
       "      <td>-0</td>\n",
       "    </tr>\n",
       "    <tr>\n",
       "      <th>overall_satisfaction</th>\n",
       "      <td>-0</td>\n",
       "      <td>0</td>\n",
       "      <td>1</td>\n",
       "      <td>0</td>\n",
       "      <td>0</td>\n",
       "      <td>0</td>\n",
       "      <td>0</td>\n",
       "    </tr>\n",
       "    <tr>\n",
       "      <th>accommodates</th>\n",
       "      <td>-0</td>\n",
       "      <td>-0</td>\n",
       "      <td>0</td>\n",
       "      <td>1</td>\n",
       "      <td>1</td>\n",
       "      <td>1</td>\n",
       "      <td>0</td>\n",
       "    </tr>\n",
       "    <tr>\n",
       "      <th>bedrooms</th>\n",
       "      <td>-0</td>\n",
       "      <td>-0</td>\n",
       "      <td>0</td>\n",
       "      <td>1</td>\n",
       "      <td>1</td>\n",
       "      <td>1</td>\n",
       "      <td>0</td>\n",
       "    </tr>\n",
       "    <tr>\n",
       "      <th>bathrooms</th>\n",
       "      <td>0</td>\n",
       "      <td>-0</td>\n",
       "      <td>0</td>\n",
       "      <td>1</td>\n",
       "      <td>1</td>\n",
       "      <td>1</td>\n",
       "      <td>0</td>\n",
       "    </tr>\n",
       "    <tr>\n",
       "      <th>price</th>\n",
       "      <td>-0</td>\n",
       "      <td>-0</td>\n",
       "      <td>0</td>\n",
       "      <td>0</td>\n",
       "      <td>0</td>\n",
       "      <td>0</td>\n",
       "      <td>1</td>\n",
       "    </tr>\n",
       "  </tbody>\n",
       "</table>\n",
       "</div>"
      ],
      "text/plain": [
       "                      room_type  reviews  overall_satisfaction  accommodates  \\\n",
       "room_type                     1       -0                    -0            -0   \n",
       "reviews                      -0        1                     0            -0   \n",
       "overall_satisfaction         -0        0                     1             0   \n",
       "accommodates                 -0       -0                     0             1   \n",
       "bedrooms                     -0       -0                     0             1   \n",
       "bathrooms                     0       -0                     0             1   \n",
       "price                        -0       -0                     0             0   \n",
       "\n",
       "                      bedrooms  bathrooms  price  \n",
       "room_type                   -0          0     -0  \n",
       "reviews                     -0         -0     -0  \n",
       "overall_satisfaction         0          0      0  \n",
       "accommodates                 1          1      0  \n",
       "bedrooms                     1          1      0  \n",
       "bathrooms                    1          1      0  \n",
       "price                        0          0      1  "
      ]
     },
     "execution_count": 64,
     "metadata": {},
     "output_type": "execute_result"
    }
   ],
   "source": [
    "seattleCopy.corr()"
   ]
  },
  {
   "cell_type": "code",
   "execution_count": 65,
   "metadata": {},
   "outputs": [],
   "source": [
    "# Correlation matrix\n",
    "def plotCorrelationMatrix(df):\n",
    "  #  df = df.dropna('columns') # drop columns with NaN\n",
    "    df = df[[col for col in df if df[col].nunique() > 1]] # keep columns where there are more than 1 unique values\n",
    "    if df.shape[1] < 2:\n",
    "        print(f'No correlation plots shown: The number of non-NaN or constant columns ({df.shape[1]}) is less than 2')\n",
    "        return\n",
    "    plt.figure(figsize=(20,15))\n",
    "    corr = df.corr()\n",
    "    corr.index = corr.columns\n",
    "    sns.heatmap(corr, annot = True, cmap='coolwarm',fmt='.2f', vmin=-1, vmax=1)\n",
    "    plt.xticks(rotation='horizontal')\n",
    "    plt.yticks(rotation='horizontal')\n",
    "    plt.title(f'Correlation Matrix for Seattle AirBnb Listings', fontsize=15)\n",
    "    plt.show()"
   ]
  },
  {
   "cell_type": "code",
   "execution_count": 66,
   "metadata": {},
   "outputs": [
    {
     "data": {
      "image/png": "[encoded data removed]",
      "text/plain": [
       "<Figure size 1440x1080 with 2 Axes>"
      ]
     },
     "metadata": {
      "needs_background": "light"
     },
     "output_type": "display_data"
    }
   ],
   "source": [
    "plotCorrelationMatrix(seattleCopy)"
   ]
  },
  {
   "cell_type": "markdown",
   "metadata": {},
   "source": [
    "### Observations from heat map:\n",
    "\n",
    "* The close to 1 the correlation is the more positively correlated they are; that is as one increases so does the other and the closer to 1 the stronger this relationship is. Therefore, *'price'* is positively correlated to *'bedrooms', 'accommodates', and 'bathrooms'*\n",
    "\n",
    "* Values closer to zero means there is no linear trend between the two variables. Hence, *'overall_satisfaction'* and *'price'* do not have linear trend.\n",
    "\n",
    "* A correlation closer to -1 is similar, but instead of both increasing one variable will decrease as the other increases. Thus, *'room_type', 'reviews'* are weakly realted to *'price'*"
   ]
  },
  {
   "cell_type": "code",
   "execution_count": 67,
   "metadata": {},
   "outputs": [
    {
     "data": {
      "text/html": [
       "<div>\n",
       "<style scoped>\n",
       "    .dataframe tbody tr th:only-of-type {\n",
       "        vertical-align: middle;\n",
       "    }\n",
       "\n",
       "    .dataframe tbody tr th {\n",
       "        vertical-align: top;\n",
       "    }\n",
       "\n",
       "    .dataframe thead th {\n",
       "        text-align: right;\n",
       "    }\n",
       "</style>\n",
       "<table border=\"1\" class=\"dataframe\">\n",
       "  <thead>\n",
       "    <tr style=\"text-align: right;\">\n",
       "      <th></th>\n",
       "      <th>price</th>\n",
       "      <th>address</th>\n",
       "    </tr>\n",
       "  </thead>\n",
       "  <tbody>\n",
       "    <tr>\n",
       "      <th>71</th>\n",
       "      <td>5900</td>\n",
       "      <td>Mercer Island, WA, United States</td>\n",
       "    </tr>\n",
       "    <tr>\n",
       "      <th>3994</th>\n",
       "      <td>3000</td>\n",
       "      <td>Seattle, WA, United States</td>\n",
       "    </tr>\n",
       "    <tr>\n",
       "      <th>5691</th>\n",
       "      <td>2800</td>\n",
       "      <td>Kirkland, WA, United States</td>\n",
       "    </tr>\n",
       "    <tr>\n",
       "      <th>4260</th>\n",
       "      <td>1650</td>\n",
       "      <td>Seattle, WA, United States</td>\n",
       "    </tr>\n",
       "    <tr>\n",
       "      <th>3069</th>\n",
       "      <td>1395</td>\n",
       "      <td>Seattle, WA, United States</td>\n",
       "    </tr>\n",
       "    <tr>\n",
       "      <th>3058</th>\n",
       "      <td>1200</td>\n",
       "      <td>Seattle, WA, United States</td>\n",
       "    </tr>\n",
       "    <tr>\n",
       "      <th>2225</th>\n",
       "      <td>999</td>\n",
       "      <td>Seattle, WA, United States</td>\n",
       "    </tr>\n",
       "    <tr>\n",
       "      <th>2100</th>\n",
       "      <td>995</td>\n",
       "      <td>Seattle, WA, United States</td>\n",
       "    </tr>\n",
       "    <tr>\n",
       "      <th>968</th>\n",
       "      <td>995</td>\n",
       "      <td>Bellevue, WA, United States</td>\n",
       "    </tr>\n",
       "    <tr>\n",
       "      <th>7369</th>\n",
       "      <td>980</td>\n",
       "      <td>Seattle, WA, United States</td>\n",
       "    </tr>\n",
       "  </tbody>\n",
       "</table>\n",
       "</div>"
      ],
      "text/plain": [
       "      price                           address\n",
       "71     5900  Mercer Island, WA, United States\n",
       "3994   3000        Seattle, WA, United States\n",
       "5691   2800       Kirkland, WA, United States\n",
       "4260   1650        Seattle, WA, United States\n",
       "3069   1395        Seattle, WA, United States\n",
       "3058   1200        Seattle, WA, United States\n",
       "2225    999        Seattle, WA, United States\n",
       "2100    995        Seattle, WA, United States\n",
       "968     995       Bellevue, WA, United States\n",
       "7369    980        Seattle, WA, United States"
      ]
     },
     "execution_count": 67,
     "metadata": {},
     "output_type": "execute_result"
    }
   ],
   "source": [
    "topTenAirBnbSeattle= seattleCopy.sort_values('price', ascending=False).head(10)[[ 'price', 'address']]\n",
    "topTenAirBnbSeattle"
   ]
  },
  {
   "cell_type": "code",
   "execution_count": 68,
   "metadata": {},
   "outputs": [
    {
     "data": {
      "image/png": "[encoded data removed]",
      "text/plain": [
       "<Figure size 1152x432 with 1 Axes>"
      ]
     },
     "metadata": {
      "needs_background": "light"
     },
     "output_type": "display_data"
    }
   ],
   "source": [
    "fig, ax = plt.subplots(figsize=(16,6))\n",
    "sns.barplot(x='address', y='price', data=topTenAirBnbSeattle, palette='Set1')\n",
    "ax.set_xlabel(ax.get_xlabel(), labelpad=15)\n",
    "ax.set_ylabel(ax.get_ylabel(), labelpad=30)\n",
    "ax.xaxis.label.set_fontsize(16)\n",
    "ax.yaxis.label.set_fontsize(16)\n",
    "ax.xaxis.label.rotation=90\n",
    "ax.yaxis.label.rotation=90\n",
    "plt.show()"
   ]
  },
  {
   "cell_type": "markdown",
   "metadata": {},
   "source": [
    "From the barplot we can see the top 4 places in Seattle to rent an AirBnb are:\n",
    "* Mercer Island\n",
    "* Seattle\n",
    "* Kirkland\n",
    "* Bellevue"
   ]
  },
  {
   "cell_type": "code",
   "execution_count": 69,
   "metadata": {},
   "outputs": [
    {
     "data": {
      "text/plain": [
       "Index(['room_type', 'address', 'reviews', 'overall_satisfaction',\n",
       "       'accommodates', 'bedrooms', 'bathrooms', 'price'],\n",
       "      dtype='object')"
      ]
     },
     "execution_count": 69,
     "metadata": {},
     "output_type": "execute_result"
    }
   ],
   "source": [
    "seattleCopy.columns"
   ]
  },
  {
   "cell_type": "markdown",
   "metadata": {},
   "source": [
    "### A pairplot to see how price is realted to all columns except address"
   ]
  },
  {
   "cell_type": "code",
   "execution_count": 70,
   "metadata": {},
   "outputs": [
    {
     "data": {
      "text/plain": [
       "<seaborn.axisgrid.PairGrid at 0x1f088253da0>"
      ]
     },
     "execution_count": 70,
     "metadata": {},
     "output_type": "execute_result"
    },
    {
     "data": {
      "image/png": "[encoded data removed]",
      "text/plain": [
       "<Figure size 1080x180 with 6 Axes>"
      ]
     },
     "metadata": {
      "needs_background": "light"
     },
     "output_type": "display_data"
    }
   ],
   "source": [
    "sns.pairplot(seattleCopy, x_vars=['room_type', 'reviews', 'overall_satisfaction', 'accommodates','bedrooms', 'bathrooms'],\n",
    "                      y_vars=[\"price\"], palette=\"husl\")"
   ]
  },
  {
   "cell_type": "code",
   "execution_count": 71,
   "metadata": {},
   "outputs": [
    {
     "data": {
      "image/png": "[encoded data removed]",
      "text/plain": [
       "<Figure size 432x432 with 3 Axes>"
      ]
     },
     "metadata": {
      "needs_background": "light"
     },
     "output_type": "display_data"
    }
   ],
   "source": [
    " g = sns.jointplot(\"overall_satisfaction\", \"price\", data=seattleCopy, kind=\"reg\")"
   ]
  },
  {
   "cell_type": "markdown",
   "metadata": {},
   "source": [
    "## Feature Selection\n",
    "\n",
    "#### Feature selection is picking the predictors best suited to help better predict the response."
   ]
  },
  {
   "cell_type": "markdown",
   "metadata": {},
   "source": [
    "### Chi-Squared statistical test for non-negative features to select the best features from the dataset"
   ]
  },
  {
   "cell_type": "code",
   "execution_count": 72,
   "metadata": {
    "scrolled": true
   },
   "outputs": [
    {
     "name": "stdout",
     "output_type": "stream",
     "text": [
      "room_type is IMPORTANT for Prediction\n",
      "reviews is NOT an important predictor. (Discard reviews from model)\n",
      "overall_satisfaction is IMPORTANT for Prediction\n",
      "accommodates is IMPORTANT for Prediction\n",
      "bedrooms is IMPORTANT for Prediction\n",
      "bathrooms is IMPORTANT for Prediction\n"
     ]
    }
   ],
   "source": [
    "import pandas as pd\n",
    "import numpy as np\n",
    "import scipy.stats as stats\n",
    "from scipy.stats import chi2_contingency\n",
    "\n",
    "class ChiSquare:\n",
    "    def __init__(self, dataframe):\n",
    "        self.df = dataframe\n",
    "        self.p = None #P-Value\n",
    "        self.chi2 = None #Chi Test Statistic\n",
    "        self.dof = None\n",
    "        \n",
    "        self.dfObserved = None\n",
    "        self.dfExpected = None\n",
    "        \n",
    "    def _print_chisquare_result(self, colX, alpha):\n",
    "        result = \"\"\n",
    "        if self.p<alpha:\n",
    "            result=\"{0} is IMPORTANT for Prediction\".format(colX)\n",
    "        else:\n",
    "            result=\"{0} is NOT an important predictor. (Discard {0} from model)\".format(colX)\n",
    "\n",
    "        print(result)\n",
    "        \n",
    "    def TestIndependence(self,colX,colY, alpha=0.05):\n",
    "        X = self.df[colX].astype(str)\n",
    "        Y = self.df[colY].astype(str)\n",
    "        \n",
    "        self.dfObserved = pd.crosstab(Y,X) \n",
    "        chi2, p, dof, expected = stats.chi2_contingency(self.dfObserved.values)\n",
    "        self.p = p\n",
    "        self.chi2 = chi2\n",
    "        self.dof = dof \n",
    "        \n",
    "        self.dfExpected = pd.DataFrame(expected, columns=self.dfObserved.columns, index = self.dfObserved.index)\n",
    "        \n",
    "        self._print_chisquare_result(colX,alpha)\n",
    "\n",
    "\n",
    "#Initialize ChiSquare Class\n",
    "cT = ChiSquare(seattleCopy)\n",
    "\n",
    "#Feature Selection\n",
    "testColumns = ['room_type', 'reviews', 'overall_satisfaction','accommodates', 'bedrooms', 'bathrooms']\n",
    "for var in testColumns:\n",
    "    cT.TestIndependence(colX=var,colY=\"price\" )  "
   ]
  },
  {
   "cell_type": "code",
   "execution_count": 73,
   "metadata": {},
   "outputs": [
    {
     "name": "stdout",
     "output_type": "stream",
     "text": [
      "[1.786126064457546, 1.5826575221941055, 7.413552986796698, 12.443529769906068, 9.655166550474002, 9.059241947021508]\n"
     ]
    }
   ],
   "source": [
    "#find variance inflator\n",
    "vi_x=seattleCopy.drop(['price','address'], axis=1)\n",
    "from statsmodels.stats.outliers_influence import variance_inflation_factor\n",
    "vif = [variance_inflation_factor(vi_x.values, i) for i in range(vi_x.shape[1])]\n",
    "print(vif)"
   ]
  },
  {
   "cell_type": "markdown",
   "metadata": {},
   "source": [
    "## Set predictors and response\n",
    "\n",
    "The target here is **price**, which tells us the price of an AirBnb in Seattle.\n",
    " \n",
    " ##### Predictors are:\n",
    " * room_type\n",
    " * overall_satisfaction\n",
    " * accommodates\n",
    " * bedrooms\n",
    " * bathrooms\n",
    "\n",
    "##### Response: price"
   ]
  },
  {
   "cell_type": "code",
   "execution_count": 74,
   "metadata": {},
   "outputs": [],
   "source": [
    "\n",
    "# create X (features) and y (response)\n",
    "X = seattleCopy.drop(['price','address','reviews'], axis=1)\n",
    "y = seattleCopy['price']\n",
    "\n",
    "\n",
    "\n",
    "\n",
    "## ['room_type', 'address', 'reviews', 'overall_satisfaction','accommodates', 'bedrooms', 'bathrooms', 'price'],"
   ]
  },
  {
   "cell_type": "code",
   "execution_count": 75,
   "metadata": {},
   "outputs": [],
   "source": [
    "# split X and y into cross-validation (75%) and testing (25%) data sets\n",
    "\n",
    "#  Setting random_state a fixed value will guarantee that same sequence of random numbers are generated each time you run the code.\n",
    "# And unless there is some other randomness present in the process, the results produced will be same as always. This helps in verifying the output.\n",
    "# However, if a fixed value is assigned like random_state = 0 or 1 or 42 then no matter how many times you execute your code the result would be the same .i.e, same values in train and test datasets.\n",
    "\n",
    "X_train, X_test, y_train, y_test = train_test_split(X, y, test_size=0.25, random_state=42)"
   ]
  },
  {
   "cell_type": "code",
   "execution_count": 76,
   "metadata": {},
   "outputs": [
    {
     "name": "stdout",
     "output_type": "stream",
     "text": [
      "X_train Shape: (5682, 5)\n",
      "X_train Shape: ['room_type' 'overall_satisfaction' 'accommodates' 'bedrooms' 'bathrooms']\n",
      "\n",
      "\n",
      "X_test Shape: (1894, 5)\n",
      "X_test Shape: ['room_type' 'overall_satisfaction' 'accommodates' 'bedrooms' 'bathrooms']\n",
      "\n",
      "\n",
      "y_train Shape: (5682,)\n",
      "y_test Shape: (1894,)\n"
     ]
    }
   ],
   "source": [
    "print('X_train Shape:', X_train.shape)\n",
    "print('X_train Shape:', X_train.columns.values)\n",
    "print(\"\\n\")\n",
    "print('X_test Shape:', X_test.shape)\n",
    "print('X_test Shape:', X_test.columns.values)\n",
    "print(\"\\n\")\n",
    "print('y_train Shape:', y_train.shape)\n",
    "print('y_test Shape:', y_test.shape)"
   ]
  },
  {
   "cell_type": "markdown",
   "metadata": {},
   "source": [
    "## Predictive Model 1- Linear Model"
   ]
  },
  {
   "cell_type": "code",
   "execution_count": 77,
   "metadata": {},
   "outputs": [],
   "source": [
    "# #Linear Model\n",
    "\n",
    "\n",
    "def data_model(xdata):\n",
    "    #add constant to data\n",
    "    X = sm.add_constant(xdata)\n",
    "    targetY=seattleCopy[['price']]\n",
    "    y = targetY\n",
    "    \n",
    "    # Fit the linear model\n",
    "    model = linear_model.LinearRegression()\n",
    "    results = model.fit(X_train, y_train)\n",
    "    y_pred_linear = model.predict(X_test)\n",
    "    model = sm.OLS(y_train, X_train)\n",
    "    results = model.fit()\n",
    "    print(\"rsquared\\n\",results.rsquared)\n",
    "    print(\"rsquared_adj\\n\",results.rsquared_adj)\n",
    "    return results\n"
   ]
  },
  {
   "cell_type": "code",
   "execution_count": 78,
   "metadata": {},
   "outputs": [],
   "source": [
    "def data_summary(xdata):\n",
    "    \"\"\"\n",
    "    Returns chart having summary of data\n",
    "   :param xdata: independent variable dataset\n",
    "   :return: summary of data \n",
    "   \n",
    "   \"\"\"\n",
    "    results = data_model(xdata)\n",
    "    return results.summary()"
   ]
  },
  {
   "cell_type": "code",
   "execution_count": 79,
   "metadata": {
    "scrolled": true
   },
   "outputs": [
    {
     "name": "stdout",
     "output_type": "stream",
     "text": [
      "rsquared\n",
      " 0.5754999443835037\n",
      "rsquared_adj\n",
      " 0.5751260672867833\n"
     ]
    },
    {
     "data": {
      "text/html": [
       "<table class=\"simpletable\">\n",
       "<caption>OLS Regression Results</caption>\n",
       "<tr>\n",
       "  <th>Dep. Variable:</th>          <td>price</td>      <th>  R-squared:         </th> <td>   0.575</td> \n",
       "</tr>\n",
       "<tr>\n",
       "  <th>Model:</th>                   <td>OLS</td>       <th>  Adj. R-squared:    </th> <td>   0.575</td> \n",
       "</tr>\n",
       "<tr>\n",
       "  <th>Method:</th>             <td>Least Squares</td>  <th>  F-statistic:       </th> <td>   1539.</td> \n",
       "</tr>\n",
       "<tr>\n",
       "  <th>Date:</th>             <td>Mon, 27 Jan 2020</td> <th>  Prob (F-statistic):</th>  <td>  0.00</td>  \n",
       "</tr>\n",
       "<tr>\n",
       "  <th>Time:</th>                 <td>23:48:16</td>     <th>  Log-Likelihood:    </th> <td> -34919.</td> \n",
       "</tr>\n",
       "<tr>\n",
       "  <th>No. Observations:</th>      <td>  5682</td>      <th>  AIC:               </th> <td>6.985e+04</td>\n",
       "</tr>\n",
       "<tr>\n",
       "  <th>Df Residuals:</th>          <td>  5677</td>      <th>  BIC:               </th> <td>6.988e+04</td>\n",
       "</tr>\n",
       "<tr>\n",
       "  <th>Df Model:</th>              <td>     5</td>      <th>                     </th>     <td> </td>    \n",
       "</tr>\n",
       "<tr>\n",
       "  <th>Covariance Type:</th>      <td>nonrobust</td>    <th>                     </th>     <td> </td>    \n",
       "</tr>\n",
       "</table>\n",
       "<table class=\"simpletable\">\n",
       "<tr>\n",
       "            <td></td>              <th>coef</th>     <th>std err</th>      <th>t</th>      <th>P>|t|</th>  <th>[0.025</th>    <th>0.975]</th>  \n",
       "</tr>\n",
       "<tr>\n",
       "  <th>room_type</th>            <td>  -43.3685</td> <td>    3.591</td> <td>  -12.076</td> <td> 0.000</td> <td>  -50.409</td> <td>  -36.328</td>\n",
       "</tr>\n",
       "<tr>\n",
       "  <th>overall_satisfaction</th> <td>    2.0243</td> <td>    0.776</td> <td>    2.609</td> <td> 0.009</td> <td>    0.503</td> <td>    3.545</td>\n",
       "</tr>\n",
       "<tr>\n",
       "  <th>accommodates</th>         <td>    3.2067</td> <td>    1.199</td> <td>    2.674</td> <td> 0.008</td> <td>    0.856</td> <td>    5.557</td>\n",
       "</tr>\n",
       "<tr>\n",
       "  <th>bedrooms</th>             <td>   26.5230</td> <td>    2.686</td> <td>    9.873</td> <td> 0.000</td> <td>   21.257</td> <td>   31.789</td>\n",
       "</tr>\n",
       "<tr>\n",
       "  <th>bathrooms</th>            <td>   51.0579</td> <td>    3.076</td> <td>   16.596</td> <td> 0.000</td> <td>   45.027</td> <td>   57.089</td>\n",
       "</tr>\n",
       "</table>\n",
       "<table class=\"simpletable\">\n",
       "<tr>\n",
       "  <th>Omnibus:</th>       <td>13952.251</td> <th>  Durbin-Watson:     </th>   <td>   2.008</td>   \n",
       "</tr>\n",
       "<tr>\n",
       "  <th>Prob(Omnibus):</th>  <td> 0.000</td>   <th>  Jarque-Bera (JB):  </th> <td>294483264.429</td>\n",
       "</tr>\n",
       "<tr>\n",
       "  <th>Skew:</th>           <td>25.640</td>   <th>  Prob(JB):          </th>   <td>    0.00</td>   \n",
       "</tr>\n",
       "<tr>\n",
       "  <th>Kurtosis:</th>      <td>1117.104</td>  <th>  Cond. No.          </th>   <td>    17.0</td>   \n",
       "</tr>\n",
       "</table><br/><br/>Warnings:<br/>[1] Standard Errors assume that the covariance matrix of the errors is correctly specified."
      ],
      "text/plain": [
       "<class 'statsmodels.iolib.summary.Summary'>\n",
       "\"\"\"\n",
       "                            OLS Regression Results                            \n",
       "==============================================================================\n",
       "Dep. Variable:                  price   R-squared:                       0.575\n",
       "Model:                            OLS   Adj. R-squared:                  0.575\n",
       "Method:                 Least Squares   F-statistic:                     1539.\n",
       "Date:                Mon, 27 Jan 2020   Prob (F-statistic):               0.00\n",
       "Time:                        23:48:16   Log-Likelihood:                -34919.\n",
       "No. Observations:                5682   AIC:                         6.985e+04\n",
       "Df Residuals:                    5677   BIC:                         6.988e+04\n",
       "Df Model:                           5                                         \n",
       "Covariance Type:            nonrobust                                         \n",
       "========================================================================================\n",
       "                           coef    std err          t      P>|t|      [0.025      0.975]\n",
       "----------------------------------------------------------------------------------------\n",
       "room_type              -43.3685      3.591    -12.076      0.000     -50.409     -36.328\n",
       "overall_satisfaction     2.0243      0.776      2.609      0.009       0.503       3.545\n",
       "accommodates             3.2067      1.199      2.674      0.008       0.856       5.557\n",
       "bedrooms                26.5230      2.686      9.873      0.000      21.257      31.789\n",
       "bathrooms               51.0579      3.076     16.596      0.000      45.027      57.089\n",
       "==============================================================================\n",
       "Omnibus:                    13952.251   Durbin-Watson:                   2.008\n",
       "Prob(Omnibus):                  0.000   Jarque-Bera (JB):        294483264.429\n",
       "Skew:                          25.640   Prob(JB):                         0.00\n",
       "Kurtosis:                    1117.104   Cond. No.                         17.0\n",
       "==============================================================================\n",
       "\n",
       "Warnings:\n",
       "[1] Standard Errors assume that the covariance matrix of the errors is correctly specified.\n",
       "\"\"\""
      ]
     },
     "execution_count": 79,
     "metadata": {},
     "output_type": "execute_result"
    }
   ],
   "source": [
    "data_summary(X_test)"
   ]
  },
  {
   "cell_type": "markdown",
   "metadata": {},
   "source": [
    "We can see that R^2 and adjusted R^2 are nearly same. Thus, this is a good model."
   ]
  },
  {
   "cell_type": "code",
   "execution_count": 80,
   "metadata": {},
   "outputs": [],
   "source": [
    "def calc_train_error(X_train, y_train, model):\n",
    "    '''returns in-sample error for already fit model.'''\n",
    "    predictions = model.predict(X_train)\n",
    "    mse = mean_squared_error(y_train, predictions)\n",
    "    rmse = np.sqrt(mse)\n",
    "    return mse\n",
    "    \n",
    "def calc_validation_error(X_test, y_test, model):\n",
    "    '''returns out-of-sample error for already fit model.'''\n",
    "    predictions = model.predict(X_test)\n",
    "    mse = mean_squared_error(y_test, predictions)\n",
    "    rmse = np.sqrt(mse)\n",
    "    return mse\n",
    "    \n",
    "def calc_metrics(X_train, y_train, X_test, y_test, model):\n",
    "    '''fits model and returns the RMSE for in-sample error and out-of-sample error'''\n",
    "    model.fit(X_train, y_train)\n",
    "    train_error = calc_train_error(X_train, y_train, model)\n",
    "    validation_error = calc_validation_error(X_test, y_test, model)\n",
    "    return train_error, validation_error"
   ]
  },
  {
   "cell_type": "code",
   "execution_count": 81,
   "metadata": {},
   "outputs": [],
   "source": [
    "def crossValidationError(data):\n",
    "    \"\"\"\n",
    "   Finds cross validation error of model\n",
    "   :param X: independent variable dataset\n",
    "   :return: float value returns mean squared error\n",
    "   \"\"\"\n",
    "    numericdataX=data\n",
    "    X = np.array(numericdataX.drop(['price', 'address'],axis=1), dtype=pd.Series)\n",
    "    Y = np.array(numericdataX['price'], dtype=pd.Series)\n",
    "    regr1 = linear_model.LinearRegression()\n",
    "    ms_errors= cross_val_score(regr1, X, Y, cv=10, scoring = make_scorer(mean_squared_error))\n",
    "    rms_errors = np.sqrt(ms_errors)\n",
    "    mean_rms_error = rms_errors.mean()\n",
    "    return mean_rms_error"
   ]
  },
  {
   "cell_type": "code",
   "execution_count": 82,
   "metadata": {},
   "outputs": [
    {
     "data": {
      "text/plain": [
       "94.99255489221709"
      ]
     },
     "execution_count": 82,
     "metadata": {},
     "output_type": "execute_result"
    }
   ],
   "source": [
    "numericdataX= seattleCopy\n",
    "#pd.concat([numericdataX, X_train, y_train], axis=1)\n",
    "crossValidationError(numericdataX)"
   ]
  },
  {
   "cell_type": "code",
   "execution_count": 83,
   "metadata": {},
   "outputs": [
    {
     "name": "stdout",
     "output_type": "stream",
     "text": [
      "train error: 12737.448 | test error: 5187.728\n",
      "train/test: 0.4\n"
     ]
    }
   ],
   "source": [
    "lr = LinearRegression(fit_intercept=True)\n",
    "\n",
    "train_error, test_error = calc_metrics(X_train, y_train, X_test, y_test, lr)\n",
    "train_error, test_error = round(train_error, 3), round(test_error, 3)\n",
    "\n",
    "print('train error: {} | test error: {}'.format(train_error, test_error))\n",
    "print('train/test: {}'.format(round(test_error/train_error, 1)))"
   ]
  },
  {
   "cell_type": "code",
   "execution_count": 84,
   "metadata": {},
   "outputs": [
    {
     "data": {
      "image/png": "[encoded data removed]",
      "text/plain": [
       "<Figure size 432x288 with 1 Axes>"
      ]
     },
     "metadata": {
      "needs_background": "light"
     },
     "output_type": "display_data"
    }
   ],
   "source": [
    "from sklearn import datasets\n",
    "from sklearn.model_selection import cross_val_predict\n",
    "from sklearn import linear_model\n",
    "import matplotlib.pyplot as plt\n",
    "\n",
    "lr = linear_model.LinearRegression()\n",
    "df1 = seattleCopy.drop(['address'], axis=1)\n",
    "y = df1.price\n",
    "\n",
    "# cross_val_predict returns an array of the same size as `y` where each entry\n",
    "# is a prediction obtained by cross validation:\n",
    "predicted = cross_val_predict(lr, df1, y, cv=10)\n",
    "\n",
    "fig, ax = plt.subplots()\n",
    "ax.scatter(y, predicted)\n",
    "ax.plot([y.min(), y.max()], [y.min(), y.max()], 'k--', lw=4)\n",
    "ax.set_xlabel('Measured')\n",
    "ax.set_ylabel('Predicted')\n",
    "plt.show()"
   ]
  },
  {
   "cell_type": "markdown",
   "metadata": {},
   "source": [
    "#### Is the relationship significant?\n",
    "A: Yes. adjusted R2 is nearly same as R2. "
   ]
  },
  {
   "cell_type": "markdown",
   "metadata": {},
   "source": [
    "#### Are any model assumptions violated?\n",
    "\n",
    "A: Yes. Multi-colinearity exists."
   ]
  },
  {
   "cell_type": "markdown",
   "metadata": {},
   "source": [
    "#### Is there any multi-collinearity in the model?\n",
    "\n",
    "A: Yes. Between accomodates, bedrooms, and bathrooms."
   ]
  },
  {
   "cell_type": "code",
   "execution_count": 85,
   "metadata": {},
   "outputs": [
    {
     "data": {
      "text/html": [
       "<div>\n",
       "<style scoped>\n",
       "    .dataframe tbody tr th:only-of-type {\n",
       "        vertical-align: middle;\n",
       "    }\n",
       "\n",
       "    .dataframe tbody tr th {\n",
       "        vertical-align: top;\n",
       "    }\n",
       "\n",
       "    .dataframe thead th {\n",
       "        text-align: right;\n",
       "    }\n",
       "</style>\n",
       "<table border=\"1\" class=\"dataframe\">\n",
       "  <thead>\n",
       "    <tr style=\"text-align: right;\">\n",
       "      <th></th>\n",
       "      <th>room_type</th>\n",
       "      <th>reviews</th>\n",
       "      <th>overall_satisfaction</th>\n",
       "      <th>accommodates</th>\n",
       "      <th>bedrooms</th>\n",
       "      <th>bathrooms</th>\n",
       "      <th>price</th>\n",
       "    </tr>\n",
       "  </thead>\n",
       "  <tbody>\n",
       "    <tr>\n",
       "      <th>room_type</th>\n",
       "      <td>1</td>\n",
       "      <td>-0</td>\n",
       "      <td>-0</td>\n",
       "      <td>-0</td>\n",
       "      <td>-0</td>\n",
       "      <td>0</td>\n",
       "      <td>-0</td>\n",
       "    </tr>\n",
       "    <tr>\n",
       "      <th>reviews</th>\n",
       "      <td>-0</td>\n",
       "      <td>1</td>\n",
       "      <td>0</td>\n",
       "      <td>-0</td>\n",
       "      <td>-0</td>\n",
       "      <td>-0</td>\n",
       "      <td>-0</td>\n",
       "    </tr>\n",
       "    <tr>\n",
       "      <th>overall_satisfaction</th>\n",
       "      <td>-0</td>\n",
       "      <td>0</td>\n",
       "      <td>1</td>\n",
       "      <td>0</td>\n",
       "      <td>0</td>\n",
       "      <td>0</td>\n",
       "      <td>0</td>\n",
       "    </tr>\n",
       "    <tr>\n",
       "      <th>accommodates</th>\n",
       "      <td>-0</td>\n",
       "      <td>-0</td>\n",
       "      <td>0</td>\n",
       "      <td>1</td>\n",
       "      <td>1</td>\n",
       "      <td>1</td>\n",
       "      <td>0</td>\n",
       "    </tr>\n",
       "    <tr>\n",
       "      <th>bedrooms</th>\n",
       "      <td>-0</td>\n",
       "      <td>-0</td>\n",
       "      <td>0</td>\n",
       "      <td>1</td>\n",
       "      <td>1</td>\n",
       "      <td>1</td>\n",
       "      <td>0</td>\n",
       "    </tr>\n",
       "    <tr>\n",
       "      <th>bathrooms</th>\n",
       "      <td>0</td>\n",
       "      <td>-0</td>\n",
       "      <td>0</td>\n",
       "      <td>1</td>\n",
       "      <td>1</td>\n",
       "      <td>1</td>\n",
       "      <td>0</td>\n",
       "    </tr>\n",
       "    <tr>\n",
       "      <th>price</th>\n",
       "      <td>-0</td>\n",
       "      <td>-0</td>\n",
       "      <td>0</td>\n",
       "      <td>0</td>\n",
       "      <td>0</td>\n",
       "      <td>0</td>\n",
       "      <td>1</td>\n",
       "    </tr>\n",
       "  </tbody>\n",
       "</table>\n",
       "</div>"
      ],
      "text/plain": [
       "                      room_type  reviews  overall_satisfaction  accommodates  \\\n",
       "room_type                     1       -0                    -0            -0   \n",
       "reviews                      -0        1                     0            -0   \n",
       "overall_satisfaction         -0        0                     1             0   \n",
       "accommodates                 -0       -0                     0             1   \n",
       "bedrooms                     -0       -0                     0             1   \n",
       "bathrooms                     0       -0                     0             1   \n",
       "price                        -0       -0                     0             0   \n",
       "\n",
       "                      bedrooms  bathrooms  price  \n",
       "room_type                   -0          0     -0  \n",
       "reviews                     -0         -0     -0  \n",
       "overall_satisfaction         0          0      0  \n",
       "accommodates                 1          1      0  \n",
       "bedrooms                     1          1      0  \n",
       "bathrooms                    1          1      0  \n",
       "price                        0          0      1  "
      ]
     },
     "execution_count": 85,
     "metadata": {},
     "output_type": "execute_result"
    }
   ],
   "source": [
    "seattleCopy.corr()"
   ]
  },
  {
   "cell_type": "markdown",
   "metadata": {},
   "source": [
    "#### In the multivariate models are predictor variables independent of all the other predictor variables?\n",
    "\n",
    "A: room_type, reviews, and overall_satisfaction are independent of other variables. "
   ]
  },
  {
   "cell_type": "markdown",
   "metadata": {},
   "source": [
    "#### In in multivariate models rank the most significant predictor variables and exclude insignificant ones from the model.\n",
    "\n",
    "A:"
   ]
  },
  {
   "cell_type": "code",
   "execution_count": 86,
   "metadata": {},
   "outputs": [
    {
     "name": "stdout",
     "output_type": "stream",
     "text": [
      "room_type is IMPORTANT for Prediction\n",
      "reviews is NOT an important predictor. (Discard reviews from model)\n",
      "overall_satisfaction is IMPORTANT for Prediction\n",
      "accommodates is IMPORTANT for Prediction\n",
      "bedrooms is IMPORTANT for Prediction\n",
      "bathrooms is IMPORTANT for Prediction\n"
     ]
    }
   ],
   "source": [
    "cT = ChiSquare(seattleCopy)\n",
    "\n",
    "#Feature Selection\n",
    "testColumns = ['room_type', 'reviews', 'overall_satisfaction','accommodates', 'bedrooms', 'bathrooms']\n",
    "for var in testColumns:\n",
    "    cT.TestIndependence(colX=var,colY=\"price\" )  "
   ]
  },
  {
   "cell_type": "markdown",
   "metadata": {},
   "source": [
    "#### Does the model make sense?\n",
    "\n",
    "A: Yes. Since 80% of the price (R^2)  is explained by predictors, i.e: 'room_type'  'overall_satisfaction' 'accommodates' 'bedrooms'\n",
    " 'bathrooms' "
   ]
  },
  {
   "cell_type": "markdown",
   "metadata": {},
   "source": [
    "#### Does regularization help?\n",
    "\n",
    "A: No. Model did not over-fit "
   ]
  },
  {
   "cell_type": "code",
   "execution_count": 87,
   "metadata": {},
   "outputs": [
    {
     "data": {
      "text/plain": [
       "0.38315422103829766"
      ]
     },
     "execution_count": 87,
     "metadata": {},
     "output_type": "execute_result"
    }
   ],
   "source": [
    "## Ridge Regression\n",
    "\n",
    "ridge = Ridge(alpha=0.1, normalize = True)\n",
    "ridge.fit(X_train,y_train)\n",
    "ridge_pred=ridge.predict(X_test)\n",
    "ridge.score(X_test,y_test)\n",
    "#The score is pretty much similar to the linear model built which ensures that the model has passed the Ridge regression test\n",
    "# for regularization\n",
    "#Ridge is used to penalize the loss function by adding the OLS loss function to the square of each coefficient multiplied by alpha.\n"
   ]
  },
  {
   "cell_type": "code",
   "execution_count": null,
   "metadata": {},
   "outputs": [],
   "source": []
  },
  {
   "cell_type": "markdown",
   "metadata": {},
   "source": [
    "#### Which independent variables are significant?\n",
    "\n",
    "A: 'accomodates', 'bedrooms, 'bathrooms', since they have the highest positive colinearity with price"
   ]
  },
  {
   "cell_type": "markdown",
   "metadata": {},
   "source": [
    "#### Which hyperparameters are important?\n",
    "\n",
    "A: lambda"
   ]
  },
  {
   "cell_type": "markdown",
   "metadata": {},
   "source": [
    "## Predictive Model 2- K-nearest"
   ]
  },
  {
   "cell_type": "code",
   "execution_count": 88,
   "metadata": {},
   "outputs": [],
   "source": [
    "\n",
    "# create X (features) and y (response)\n",
    "X_knn = seattleCopy.drop(['price','address'], axis=1)\n",
    "y_knn = seattleCopy['price']\n",
    "\n",
    "# Import train_test_split function\n",
    "from sklearn.model_selection import train_test_split\n",
    "\n",
    "# Split dataset into training set and test set\n",
    "X_train_knn, X_test_knn, y_train_knn, y_test_knn = train_test_split(X_knn,y_knn, test_size=0.25, random_state=42) # 70% training and 30% test"
   ]
  },
  {
   "cell_type": "code",
   "execution_count": 89,
   "metadata": {},
   "outputs": [],
   "source": [
    "#Import knearest neighbors Classifier model\n",
    "from sklearn.neighbors import KNeighborsClassifier\n",
    "\n",
    "#Create KNN Classifier\n",
    "knn = KNeighborsClassifier(n_neighbors=2)\n",
    "\n",
    "#Train the model using the training sets\n",
    "knn.fit(X_train, y_train)\n",
    "\n",
    "#Predict the response for test dataset\n",
    "y_pred = knn.predict(X_test)"
   ]
  },
  {
   "cell_type": "code",
   "execution_count": 90,
   "metadata": {},
   "outputs": [
    {
     "name": "stdout",
     "output_type": "stream",
     "text": [
      "Accuracy: 0.04171066525871172\n"
     ]
    }
   ],
   "source": [
    "#Import scikit-learn metrics module for accuracy calculation\n",
    "from sklearn import metrics\n",
    "# Model Accuracy, how often is the classifier correct?\n",
    "print(\"Accuracy:\",metrics.accuracy_score(y_test_knn, y_pred))"
   ]
  },
  {
   "cell_type": "markdown",
   "metadata": {},
   "source": [
    "#### Is the relationship significant?\n",
    "A: Yes. Accuracy of 41.71 %"
   ]
  },
  {
   "cell_type": "markdown",
   "metadata": {},
   "source": [
    "#### Are any model assumptions violated?\n",
    "\n",
    "A: Yes. n_neighbors are given high values to improve accuracy."
   ]
  },
  {
   "cell_type": "markdown",
   "metadata": {},
   "source": [
    "#### Is there any multi-collinearity in the model?\n",
    "\n",
    "A: Yes. Between accomodates, bedrooms, and bathrooms."
   ]
  },
  {
   "cell_type": "code",
   "execution_count": 91,
   "metadata": {},
   "outputs": [
    {
     "data": {
      "text/html": [
       "<div>\n",
       "<style scoped>\n",
       "    .dataframe tbody tr th:only-of-type {\n",
       "        vertical-align: middle;\n",
       "    }\n",
       "\n",
       "    .dataframe tbody tr th {\n",
       "        vertical-align: top;\n",
       "    }\n",
       "\n",
       "    .dataframe thead th {\n",
       "        text-align: right;\n",
       "    }\n",
       "</style>\n",
       "<table border=\"1\" class=\"dataframe\">\n",
       "  <thead>\n",
       "    <tr style=\"text-align: right;\">\n",
       "      <th></th>\n",
       "      <th>room_type</th>\n",
       "      <th>reviews</th>\n",
       "      <th>overall_satisfaction</th>\n",
       "      <th>accommodates</th>\n",
       "      <th>bedrooms</th>\n",
       "      <th>bathrooms</th>\n",
       "      <th>price</th>\n",
       "    </tr>\n",
       "  </thead>\n",
       "  <tbody>\n",
       "    <tr>\n",
       "      <th>room_type</th>\n",
       "      <td>1</td>\n",
       "      <td>-0</td>\n",
       "      <td>-0</td>\n",
       "      <td>-0</td>\n",
       "      <td>-0</td>\n",
       "      <td>0</td>\n",
       "      <td>-0</td>\n",
       "    </tr>\n",
       "    <tr>\n",
       "      <th>reviews</th>\n",
       "      <td>-0</td>\n",
       "      <td>1</td>\n",
       "      <td>0</td>\n",
       "      <td>-0</td>\n",
       "      <td>-0</td>\n",
       "      <td>-0</td>\n",
       "      <td>-0</td>\n",
       "    </tr>\n",
       "    <tr>\n",
       "      <th>overall_satisfaction</th>\n",
       "      <td>-0</td>\n",
       "      <td>0</td>\n",
       "      <td>1</td>\n",
       "      <td>0</td>\n",
       "      <td>0</td>\n",
       "      <td>0</td>\n",
       "      <td>0</td>\n",
       "    </tr>\n",
       "    <tr>\n",
       "      <th>accommodates</th>\n",
       "      <td>-0</td>\n",
       "      <td>-0</td>\n",
       "      <td>0</td>\n",
       "      <td>1</td>\n",
       "      <td>1</td>\n",
       "      <td>1</td>\n",
       "      <td>0</td>\n",
       "    </tr>\n",
       "    <tr>\n",
       "      <th>bedrooms</th>\n",
       "      <td>-0</td>\n",
       "      <td>-0</td>\n",
       "      <td>0</td>\n",
       "      <td>1</td>\n",
       "      <td>1</td>\n",
       "      <td>1</td>\n",
       "      <td>0</td>\n",
       "    </tr>\n",
       "    <tr>\n",
       "      <th>bathrooms</th>\n",
       "      <td>0</td>\n",
       "      <td>-0</td>\n",
       "      <td>0</td>\n",
       "      <td>1</td>\n",
       "      <td>1</td>\n",
       "      <td>1</td>\n",
       "      <td>0</td>\n",
       "    </tr>\n",
       "    <tr>\n",
       "      <th>price</th>\n",
       "      <td>-0</td>\n",
       "      <td>-0</td>\n",
       "      <td>0</td>\n",
       "      <td>0</td>\n",
       "      <td>0</td>\n",
       "      <td>0</td>\n",
       "      <td>1</td>\n",
       "    </tr>\n",
       "  </tbody>\n",
       "</table>\n",
       "</div>"
      ],
      "text/plain": [
       "                      room_type  reviews  overall_satisfaction  accommodates  \\\n",
       "room_type                     1       -0                    -0            -0   \n",
       "reviews                      -0        1                     0            -0   \n",
       "overall_satisfaction         -0        0                     1             0   \n",
       "accommodates                 -0       -0                     0             1   \n",
       "bedrooms                     -0       -0                     0             1   \n",
       "bathrooms                     0       -0                     0             1   \n",
       "price                        -0       -0                     0             0   \n",
       "\n",
       "                      bedrooms  bathrooms  price  \n",
       "room_type                   -0          0     -0  \n",
       "reviews                     -0         -0     -0  \n",
       "overall_satisfaction         0          0      0  \n",
       "accommodates                 1          1      0  \n",
       "bedrooms                     1          1      0  \n",
       "bathrooms                    1          1      0  \n",
       "price                        0          0      1  "
      ]
     },
     "execution_count": 91,
     "metadata": {},
     "output_type": "execute_result"
    }
   ],
   "source": [
    "seattleCopy.corr()"
   ]
  },
  {
   "cell_type": "markdown",
   "metadata": {},
   "source": [
    "#### In the multivariate models are predictor variables independent of all the other predictor variables?\n",
    "\n",
    "A: room_type, reviews, and overall_satisfaction are independent of other variables. "
   ]
  },
  {
   "cell_type": "markdown",
   "metadata": {},
   "source": [
    "#### In in multivariate models rank the most significant predictor variables and exclude insignificant ones from the model.\n",
    "\n",
    "A:"
   ]
  },
  {
   "cell_type": "code",
   "execution_count": 92,
   "metadata": {},
   "outputs": [
    {
     "name": "stdout",
     "output_type": "stream",
     "text": [
      "room_type is IMPORTANT for Prediction\n",
      "reviews is NOT an important predictor. (Discard reviews from model)\n",
      "overall_satisfaction is IMPORTANT for Prediction\n",
      "accommodates is IMPORTANT for Prediction\n",
      "bedrooms is IMPORTANT for Prediction\n",
      "bathrooms is IMPORTANT for Prediction\n"
     ]
    }
   ],
   "source": [
    "cT = ChiSquare(seattleCopy)\n",
    "\n",
    "#Feature Selection\n",
    "testColumns = ['room_type', 'reviews', 'overall_satisfaction','accommodates', 'bedrooms', 'bathrooms']\n",
    "for var in testColumns:\n",
    "    cT.TestIndependence(colX=var,colY=\"price\" )  "
   ]
  },
  {
   "cell_type": "markdown",
   "metadata": {},
   "source": [
    "#### Does the model make sense?\n",
    "\n",
    "A: Yes. Increase in accuracy due to n_neighbors increase"
   ]
  },
  {
   "cell_type": "markdown",
   "metadata": {},
   "source": [
    "#### Which independent variables are significant?\n",
    "\n",
    "A: 'accomodates', 'bedrooms, 'bathrooms', since they have the highest positive colinearity with price"
   ]
  },
  {
   "cell_type": "markdown",
   "metadata": {},
   "source": [
    "#### Which hyperparameters are important?\n",
    "\n",
    "A: n_neighbors"
   ]
  },
  {
   "cell_type": "markdown",
   "metadata": {},
   "source": [
    "## Predictive Model 3- Decision Trees"
   ]
  },
  {
   "cell_type": "code",
   "execution_count": 93,
   "metadata": {},
   "outputs": [],
   "source": [
    "# Load libraries\n",
    "import pandas as pd\n",
    "from sklearn.tree import DecisionTreeClassifier # Import Decision Tree Classifier\n",
    "from sklearn.model_selection import train_test_split # Import train_test_split function\n",
    "from sklearn import metrics #Import scikit-learn metrics module for accuracy calculation"
   ]
  },
  {
   "cell_type": "code",
   "execution_count": 94,
   "metadata": {},
   "outputs": [],
   "source": [
    "# Create Decision Tree classifer object\n",
    "clf = DecisionTreeClassifier()\n",
    "\n",
    "# Train Decision Tree Classifer\n",
    "clf = clf.fit(X_train,y_train)\n",
    "\n",
    "#Predict the response for test dataset\n",
    "y_pred = clf.predict(X_test)"
   ]
  },
  {
   "cell_type": "code",
   "execution_count": 95,
   "metadata": {},
   "outputs": [
    {
     "name": "stdout",
     "output_type": "stream",
     "text": [
      "Accuracy: 0.08342133051742344\n"
     ]
    }
   ],
   "source": [
    "# Model Accuracy, how often is the classifier correct?\n",
    "print(\"Accuracy:\",metrics.accuracy_score(y_test, y_pred))"
   ]
  },
  {
   "cell_type": "code",
   "execution_count": 96,
   "metadata": {},
   "outputs": [
    {
     "data": {
      "text/plain": [
       "RandomForestRegressor(bootstrap=True, criterion='mse', max_depth=None,\n",
       "           max_features='auto', max_leaf_nodes=None,\n",
       "           min_impurity_decrease=0.0, min_impurity_split=None,\n",
       "           min_samples_leaf=1, min_samples_split=2,\n",
       "           min_weight_fraction_leaf=0.0, n_estimators=6, n_jobs=None,\n",
       "           oob_score=False, random_state=0, verbose=0, warm_start=False)"
      ]
     },
     "execution_count": 96,
     "metadata": {},
     "output_type": "execute_result"
    }
   ],
   "source": [
    "from sklearn.ensemble import RandomForestRegressor\n",
    "#Put 10 for the n_estimators argument. n_estimators mean the number #of trees in the forest.\n",
    "regressor = RandomForestRegressor(n_estimators=6, random_state=0)\n",
    "regressor.fit(X_train,y_train)"
   ]
  },
  {
   "cell_type": "code",
   "execution_count": 97,
   "metadata": {},
   "outputs": [
    {
     "data": {
      "text/plain": [
       "array([ 88.93215399, 201.38888889,  79.81869732, ..., 259.09722222,\n",
       "        79.81869732,  96.18143177])"
      ]
     },
     "execution_count": 97,
     "metadata": {},
     "output_type": "execute_result"
    }
   ],
   "source": [
    "regressor.predict(X_test)"
   ]
  },
  {
   "cell_type": "markdown",
   "metadata": {},
   "source": [
    "#### Is the relationship significant?\n",
    "A: Yes. 83% accuracy."
   ]
  },
  {
   "cell_type": "markdown",
   "metadata": {},
   "source": [
    "#### Are any model assumptions violated?\n",
    "\n",
    "A: Yes, the depth level value was given high to increase accuracy.\n"
   ]
  },
  {
   "cell_type": "markdown",
   "metadata": {},
   "source": [
    "#### Is there any multi-collinearity in the model?\n",
    "\n",
    "A: Yes. Between accomodates, bedrooms, and bathrooms."
   ]
  },
  {
   "cell_type": "code",
   "execution_count": 98,
   "metadata": {},
   "outputs": [
    {
     "data": {
      "text/html": [
       "<div>\n",
       "<style scoped>\n",
       "    .dataframe tbody tr th:only-of-type {\n",
       "        vertical-align: middle;\n",
       "    }\n",
       "\n",
       "    .dataframe tbody tr th {\n",
       "        vertical-align: top;\n",
       "    }\n",
       "\n",
       "    .dataframe thead th {\n",
       "        text-align: right;\n",
       "    }\n",
       "</style>\n",
       "<table border=\"1\" class=\"dataframe\">\n",
       "  <thead>\n",
       "    <tr style=\"text-align: right;\">\n",
       "      <th></th>\n",
       "      <th>room_type</th>\n",
       "      <th>reviews</th>\n",
       "      <th>overall_satisfaction</th>\n",
       "      <th>accommodates</th>\n",
       "      <th>bedrooms</th>\n",
       "      <th>bathrooms</th>\n",
       "      <th>price</th>\n",
       "    </tr>\n",
       "  </thead>\n",
       "  <tbody>\n",
       "    <tr>\n",
       "      <th>room_type</th>\n",
       "      <td>1</td>\n",
       "      <td>-0</td>\n",
       "      <td>-0</td>\n",
       "      <td>-0</td>\n",
       "      <td>-0</td>\n",
       "      <td>0</td>\n",
       "      <td>-0</td>\n",
       "    </tr>\n",
       "    <tr>\n",
       "      <th>reviews</th>\n",
       "      <td>-0</td>\n",
       "      <td>1</td>\n",
       "      <td>0</td>\n",
       "      <td>-0</td>\n",
       "      <td>-0</td>\n",
       "      <td>-0</td>\n",
       "      <td>-0</td>\n",
       "    </tr>\n",
       "    <tr>\n",
       "      <th>overall_satisfaction</th>\n",
       "      <td>-0</td>\n",
       "      <td>0</td>\n",
       "      <td>1</td>\n",
       "      <td>0</td>\n",
       "      <td>0</td>\n",
       "      <td>0</td>\n",
       "      <td>0</td>\n",
       "    </tr>\n",
       "    <tr>\n",
       "      <th>accommodates</th>\n",
       "      <td>-0</td>\n",
       "      <td>-0</td>\n",
       "      <td>0</td>\n",
       "      <td>1</td>\n",
       "      <td>1</td>\n",
       "      <td>1</td>\n",
       "      <td>0</td>\n",
       "    </tr>\n",
       "    <tr>\n",
       "      <th>bedrooms</th>\n",
       "      <td>-0</td>\n",
       "      <td>-0</td>\n",
       "      <td>0</td>\n",
       "      <td>1</td>\n",
       "      <td>1</td>\n",
       "      <td>1</td>\n",
       "      <td>0</td>\n",
       "    </tr>\n",
       "    <tr>\n",
       "      <th>bathrooms</th>\n",
       "      <td>0</td>\n",
       "      <td>-0</td>\n",
       "      <td>0</td>\n",
       "      <td>1</td>\n",
       "      <td>1</td>\n",
       "      <td>1</td>\n",
       "      <td>0</td>\n",
       "    </tr>\n",
       "    <tr>\n",
       "      <th>price</th>\n",
       "      <td>-0</td>\n",
       "      <td>-0</td>\n",
       "      <td>0</td>\n",
       "      <td>0</td>\n",
       "      <td>0</td>\n",
       "      <td>0</td>\n",
       "      <td>1</td>\n",
       "    </tr>\n",
       "  </tbody>\n",
       "</table>\n",
       "</div>"
      ],
      "text/plain": [
       "                      room_type  reviews  overall_satisfaction  accommodates  \\\n",
       "room_type                     1       -0                    -0            -0   \n",
       "reviews                      -0        1                     0            -0   \n",
       "overall_satisfaction         -0        0                     1             0   \n",
       "accommodates                 -0       -0                     0             1   \n",
       "bedrooms                     -0       -0                     0             1   \n",
       "bathrooms                     0       -0                     0             1   \n",
       "price                        -0       -0                     0             0   \n",
       "\n",
       "                      bedrooms  bathrooms  price  \n",
       "room_type                   -0          0     -0  \n",
       "reviews                     -0         -0     -0  \n",
       "overall_satisfaction         0          0      0  \n",
       "accommodates                 1          1      0  \n",
       "bedrooms                     1          1      0  \n",
       "bathrooms                    1          1      0  \n",
       "price                        0          0      1  "
      ]
     },
     "execution_count": 98,
     "metadata": {},
     "output_type": "execute_result"
    }
   ],
   "source": [
    "seattleCopy.corr()"
   ]
  },
  {
   "cell_type": "markdown",
   "metadata": {},
   "source": [
    "#### In the multivariate models are predictor variables independent of all the other predictor variables?\n",
    "\n",
    "A: room_type, reviews, and overall_satisfaction are independent of other variables. "
   ]
  },
  {
   "cell_type": "markdown",
   "metadata": {},
   "source": [
    "#### In in multivariate models rank the most significant predictor variables and exclude insignificant ones from the model.\n",
    "\n",
    "A:"
   ]
  },
  {
   "cell_type": "code",
   "execution_count": 99,
   "metadata": {},
   "outputs": [
    {
     "name": "stdout",
     "output_type": "stream",
     "text": [
      "room_type is IMPORTANT for Prediction\n",
      "reviews is NOT an important predictor. (Discard reviews from model)\n",
      "overall_satisfaction is IMPORTANT for Prediction\n",
      "accommodates is IMPORTANT for Prediction\n",
      "bedrooms is IMPORTANT for Prediction\n",
      "bathrooms is IMPORTANT for Prediction\n"
     ]
    }
   ],
   "source": [
    "cT = ChiSquare(seattleCopy)\n",
    "\n",
    "#Feature Selection\n",
    "testColumns = ['room_type', 'reviews', 'overall_satisfaction','accommodates', 'bedrooms', 'bathrooms']\n",
    "for var in testColumns:\n",
    "    cT.TestIndependence(colX=var,colY=\"price\" )  "
   ]
  },
  {
   "cell_type": "markdown",
   "metadata": {},
   "source": [
    "#### Does the model make sense?\n",
    "\n",
    "A: Yes. Increase in accuracy due to n_neighbors increase"
   ]
  },
  {
   "cell_type": "markdown",
   "metadata": {},
   "source": [
    "#### Which independent variables are significant?\n",
    "\n",
    "A: 'accomodates', 'bedrooms, 'bathrooms', since they have the highest positive colinearity with price"
   ]
  },
  {
   "cell_type": "markdown",
   "metadata": {},
   "source": [
    "#### Which hyperparameters are important?\n",
    "\n",
    "A: n_estimators"
   ]
  },
  {
   "cell_type": "markdown",
   "metadata": {},
   "source": [
    "# Conclusions"
   ]
  },
  {
   "cell_type": "markdown",
   "metadata": {},
   "source": [
    "Based on the analysis of the dataset, we have taken the price as the independent variable and rest of the variable as the dependent variables.\n",
    "\n",
    "So we determine price in Seattle based on the independent variables such as room_type, overall_satisfaction, accomodates, bedrooms and bathrooms.\n",
    "\n",
    "We perform the Linear model, has good R2 value of 0.57 and which gives the cross-validation error of 94% \n",
    "\n",
    "And it can detected using Variance Inflation Factor(VIF).The Variance Inflation Factor (VIF) is a measure of colinearity among predictor variables within a multiple regression. It is calculated by taking the the ratio of the variance of all a given model's betas divide by the variane of a single beta if it were fit alone. None of the predictors in our case has a high value of VIF. Hence,would not need to discard one of these variables before moving on to model building or risk building a model with high multicolinearity."
   ]
  },
  {
   "cell_type": "markdown",
   "metadata": {},
   "source": [
    "# Citations"
   ]
  },
  {
   "cell_type": "markdown",
   "metadata": {},
   "source": [
    "* https://machinelearningmastery.com/why-one-hot-encode-data-in-machine-learning/\n",
    "* https://seaborn.pydata.org/tutorial/relational.html#relating-variables-with-scatter-plots\n",
    "* https://www.datacamp.com/community/tutorials/categorical-data\n",
    "* https://jamesrledoux.com/code/imputation\n",
    "* https://seaborn.pydata.org/generated/seaborn.pairplot.html\n",
    "* https://cmdlinetips.com/2019/02/how-to-make-histogram-in-python-with-pandas-and-seaborn/\n",
    "* https://towardsdatascience.com/analyze-the-data-through-data-visualization-using-seaborn-255e1cd3948e\n",
    "* https://machinelearningmastery.com/an-introduction-to-feature-selection/"
   ]
  },
  {
   "cell_type": "markdown",
   "metadata": {},
   "source": [
    "# Contributions"
   ]
  },
  {
   "cell_type": "markdown",
   "metadata": {},
   "source": [
    "By own: 45%\n",
    "External resource: 55%"
   ]
  },
  {
   "cell_type": "markdown",
   "metadata": {},
   "source": [
    "# The MIT License\n",
    "\n",
    "\n",
    "Copyright (c)  2020 Seemanthini Jois\n",
    "\n",
    "Permission is hereby granted, free of charge, to any person obtaining a copy of this software and associated documentation files (the \"Software\"), to deal in the Software without restriction, including without limitation the rights to use, copy, modify, merge, publish, distribute, sublicense, and/or sell copies of the Software, and to permit persons to whom the Software is furnished to do so, subject to the following conditions:\n",
    "\n",
    "The above copyright notice and this permission notice shall be included in all copies or substantial portions of the Software.\n",
    "\n",
    "THE SOFTWARE IS PROVIDED \"AS IS\", WITHOUT WARRANTY OF ANY KIND, EXPRESS OR IMPLIED, INCLUDING BUT NOT LIMITED TO THE WARRANTIES OF MERCHANTABILITY, FITNESS FOR A PARTICULAR PURPOSE AND NONINFRINGEMENT. IN NO EVENT SHALL THE AUTHORS OR COPYRIGHT HOLDERS BE LIABLE FOR ANY CLAIM, DAMAGES OR OTHER LIABILITY, WHETHER IN AN ACTION OF CONTRACT, TORT OR OTHERWISE, ARISING FROM, OUT OF OR IN CONNECTION WITH THE SOFTWARE OR THE USE OR OTHER DEALINGS IN THE SOFTWARE."
   ]
  }
 ],
 "metadata": {
  "kernelspec": {
   "display_name": "Python 3",
   "language": "python",
   "name": "python3"
  },
  "language_info": {
   "codemirror_mode": {
    "name": "ipython",
    "version": 3
   },
   "file_extension": ".py",
   "mimetype": "text/x-python",
   "name": "python",
   "nbconvert_exporter": "python",
   "pygments_lexer": "ipython3",
   "version": "3.7.4"
  }
 },
 "nbformat": 4,
 "nbformat_minor": 2
}
